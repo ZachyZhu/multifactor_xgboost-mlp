{
 "cells": [
  {
   "cell_type": "code",
   "execution_count": 180,
   "metadata": {},
   "outputs": [],
   "source": [
    "import pandas as pd\n",
    "import numpy as np\n",
    "import matplotlib.pyplot as plt\n",
    "from sklearn.linear_model import LogisticRegression\n",
    "from sklearn.model_selection import train_test_split, cross_val_score, GridSearchCV\n",
    "from sklearn.preprocessing import OneHotEncoder, StandardScaler, MinMaxScaler, PolynomialFeatures\n",
    "from sklearn.compose import make_column_transformer\n",
    "from sklearn.pipeline import make_pipeline\n",
    "from sklearn.impute import SimpleImputer\n",
    "from sklearn.ensemble import RandomForestClassifier\n",
    "from sklearn.metrics import confusion_matrix\n",
    "from xgboost import XGBClassifier"
   ]
  },
  {
   "cell_type": "code",
   "execution_count": 181,
   "metadata": {},
   "outputs": [],
   "source": [
    "data = pd.read_csv('engineered_factset_campaign-2.csv')"
   ]
  },
  {
   "cell_type": "code",
   "execution_count": 182,
   "metadata": {},
   "outputs": [
    {
     "data": {
      "text/html": [
       "<div>\n",
       "<style scoped>\n",
       "    .dataframe tbody tr th:only-of-type {\n",
       "        vertical-align: middle;\n",
       "    }\n",
       "\n",
       "    .dataframe tbody tr th {\n",
       "        vertical-align: top;\n",
       "    }\n",
       "\n",
       "    .dataframe thead th {\n",
       "        text-align: right;\n",
       "    }\n",
       "</style>\n",
       "<table border=\"1\" class=\"dataframe\">\n",
       "  <thead>\n",
       "    <tr style=\"text-align: right;\">\n",
       "      <th></th>\n",
       "      <th>campaign_id</th>\n",
       "      <th>campaign_announcement_date</th>\n",
       "      <th>campaign_title</th>\n",
       "      <th>campaign_objective_primary</th>\n",
       "      <th>value_demand</th>\n",
       "      <th>governance_demand</th>\n",
       "      <th>activist_campaign_tactic</th>\n",
       "      <th>total_number_of_board_seats</th>\n",
       "      <th>number_of_board_seats_sought</th>\n",
       "      <th>short_or_majority_or_full_slate</th>\n",
       "      <th>...</th>\n",
       "      <th>post_12m_residual_return</th>\n",
       "      <th>post_18m_residual_return</th>\n",
       "      <th>cumulative_6m_residual_return</th>\n",
       "      <th>cumulative_12m_residual_return</th>\n",
       "      <th>cumulative_18m_residual_return</th>\n",
       "      <th>lagged_campaign_announcement_date</th>\n",
       "      <th>past_return_successes</th>\n",
       "      <th>board_seats_percentage_sought</th>\n",
       "      <th>board_seat_percentage_gained</th>\n",
       "      <th>board_seat_result_group</th>\n",
       "    </tr>\n",
       "  </thead>\n",
       "  <tbody>\n",
       "    <tr>\n",
       "      <td>0</td>\n",
       "      <td>1023510334C</td>\n",
       "      <td>1984-09-21</td>\n",
       "      <td>Orion Capital Corporation / Shamrock Holdings Inc</td>\n",
       "      <td>13D Filer - No Publicly Disclosed Activism</td>\n",
       "      <td>NaN</td>\n",
       "      <td>NaN</td>\n",
       "      <td>NaN</td>\n",
       "      <td>0</td>\n",
       "      <td>0</td>\n",
       "      <td>NaN</td>\n",
       "      <td>...</td>\n",
       "      <td>0.077059</td>\n",
       "      <td>0.051307</td>\n",
       "      <td>0.100132</td>\n",
       "      <td>0.068216</td>\n",
       "      <td>0.063288</td>\n",
       "      <td>NaN</td>\n",
       "      <td>NaN</td>\n",
       "      <td>NaN</td>\n",
       "      <td>NaN</td>\n",
       "      <td>NaN</td>\n",
       "    </tr>\n",
       "    <tr>\n",
       "      <td>1</td>\n",
       "      <td>0469390386C</td>\n",
       "      <td>1985-03-14</td>\n",
       "      <td>Central Soya Co. Inc. / Shamrock Holdings Inc.</td>\n",
       "      <td>Hostile/Unsolicited Acquisition</td>\n",
       "      <td>NaN</td>\n",
       "      <td>NaN</td>\n",
       "      <td>Publicly Disclosed Letter to Board/Management,...</td>\n",
       "      <td>0</td>\n",
       "      <td>0</td>\n",
       "      <td>NaN</td>\n",
       "      <td>...</td>\n",
       "      <td>NaN</td>\n",
       "      <td>NaN</td>\n",
       "      <td>NaN</td>\n",
       "      <td>NaN</td>\n",
       "      <td>NaN</td>\n",
       "      <td>NaN</td>\n",
       "      <td>NaN</td>\n",
       "      <td>NaN</td>\n",
       "      <td>NaN</td>\n",
       "      <td>NaN</td>\n",
       "    </tr>\n",
       "    <tr>\n",
       "      <td>2</td>\n",
       "      <td>0998393482C</td>\n",
       "      <td>1986-02-10</td>\n",
       "      <td>Foote, Cone &amp; Belding Communications, Inc. / S...</td>\n",
       "      <td>Maximize Shareholder Value</td>\n",
       "      <td>NaN</td>\n",
       "      <td>NaN</td>\n",
       "      <td>Threaten Proxy Fight</td>\n",
       "      <td>0</td>\n",
       "      <td>0</td>\n",
       "      <td>NaN</td>\n",
       "      <td>...</td>\n",
       "      <td>0.010287</td>\n",
       "      <td>0.011217</td>\n",
       "      <td>0.003934</td>\n",
       "      <td>0.012973</td>\n",
       "      <td>0.012812</td>\n",
       "      <td>1985-09-21</td>\n",
       "      <td>1.0</td>\n",
       "      <td>NaN</td>\n",
       "      <td>NaN</td>\n",
       "      <td>NaN</td>\n",
       "    </tr>\n",
       "    <tr>\n",
       "      <td>3</td>\n",
       "      <td>0870190451C</td>\n",
       "      <td>1986-05-30</td>\n",
       "      <td>Holly Sugar Corporation / Shamrock Holdings Inc.</td>\n",
       "      <td>Maximize Shareholder Value</td>\n",
       "      <td>NaN</td>\n",
       "      <td>NaN</td>\n",
       "      <td>NaN</td>\n",
       "      <td>0</td>\n",
       "      <td>0</td>\n",
       "      <td>NaN</td>\n",
       "      <td>...</td>\n",
       "      <td>-0.005720</td>\n",
       "      <td>0.003520</td>\n",
       "      <td>0.092744</td>\n",
       "      <td>0.049383</td>\n",
       "      <td>0.044060</td>\n",
       "      <td>1986-03-14</td>\n",
       "      <td>1.0</td>\n",
       "      <td>NaN</td>\n",
       "      <td>NaN</td>\n",
       "      <td>NaN</td>\n",
       "    </tr>\n",
       "    <tr>\n",
       "      <td>4</td>\n",
       "      <td>0789100154C</td>\n",
       "      <td>1986-06-02</td>\n",
       "      <td>Enterra Corporation / Shamrock Holdings, Inc</td>\n",
       "      <td>Enhance Corporate Governance</td>\n",
       "      <td>NaN</td>\n",
       "      <td>NaN</td>\n",
       "      <td>NaN</td>\n",
       "      <td>0</td>\n",
       "      <td>0</td>\n",
       "      <td>NaN</td>\n",
       "      <td>...</td>\n",
       "      <td>NaN</td>\n",
       "      <td>NaN</td>\n",
       "      <td>NaN</td>\n",
       "      <td>NaN</td>\n",
       "      <td>NaN</td>\n",
       "      <td>1986-03-14</td>\n",
       "      <td>1.0</td>\n",
       "      <td>NaN</td>\n",
       "      <td>NaN</td>\n",
       "      <td>NaN</td>\n",
       "    </tr>\n",
       "  </tbody>\n",
       "</table>\n",
       "<p>5 rows × 119 columns</p>\n",
       "</div>"
      ],
      "text/plain": [
       "   campaign_id campaign_announcement_date  \\\n",
       "0  1023510334C                 1984-09-21   \n",
       "1  0469390386C                 1985-03-14   \n",
       "2  0998393482C                 1986-02-10   \n",
       "3  0870190451C                 1986-05-30   \n",
       "4  0789100154C                 1986-06-02   \n",
       "\n",
       "                                      campaign_title  \\\n",
       "0  Orion Capital Corporation / Shamrock Holdings Inc   \n",
       "1     Central Soya Co. Inc. / Shamrock Holdings Inc.   \n",
       "2  Foote, Cone & Belding Communications, Inc. / S...   \n",
       "3   Holly Sugar Corporation / Shamrock Holdings Inc.   \n",
       "4       Enterra Corporation / Shamrock Holdings, Inc   \n",
       "\n",
       "                   campaign_objective_primary value_demand governance_demand  \\\n",
       "0  13D Filer - No Publicly Disclosed Activism          NaN               NaN   \n",
       "1             Hostile/Unsolicited Acquisition          NaN               NaN   \n",
       "2                  Maximize Shareholder Value          NaN               NaN   \n",
       "3                  Maximize Shareholder Value          NaN               NaN   \n",
       "4                Enhance Corporate Governance          NaN               NaN   \n",
       "\n",
       "                            activist_campaign_tactic  \\\n",
       "0                                                NaN   \n",
       "1  Publicly Disclosed Letter to Board/Management,...   \n",
       "2                               Threaten Proxy Fight   \n",
       "3                                                NaN   \n",
       "4                                                NaN   \n",
       "\n",
       "   total_number_of_board_seats  number_of_board_seats_sought  \\\n",
       "0                            0                             0   \n",
       "1                            0                             0   \n",
       "2                            0                             0   \n",
       "3                            0                             0   \n",
       "4                            0                             0   \n",
       "\n",
       "  short_or_majority_or_full_slate  ... post_12m_residual_return  \\\n",
       "0                             NaN  ...                 0.077059   \n",
       "1                             NaN  ...                      NaN   \n",
       "2                             NaN  ...                 0.010287   \n",
       "3                             NaN  ...                -0.005720   \n",
       "4                             NaN  ...                      NaN   \n",
       "\n",
       "  post_18m_residual_return cumulative_6m_residual_return  \\\n",
       "0                 0.051307                      0.100132   \n",
       "1                      NaN                           NaN   \n",
       "2                 0.011217                      0.003934   \n",
       "3                 0.003520                      0.092744   \n",
       "4                      NaN                           NaN   \n",
       "\n",
       "  cumulative_12m_residual_return cumulative_18m_residual_return  \\\n",
       "0                       0.068216                       0.063288   \n",
       "1                            NaN                            NaN   \n",
       "2                       0.012973                       0.012812   \n",
       "3                       0.049383                       0.044060   \n",
       "4                            NaN                            NaN   \n",
       "\n",
       "  lagged_campaign_announcement_date past_return_successes  \\\n",
       "0                               NaN                   NaN   \n",
       "1                               NaN                   NaN   \n",
       "2                        1985-09-21                   1.0   \n",
       "3                        1986-03-14                   1.0   \n",
       "4                        1986-03-14                   1.0   \n",
       "\n",
       "  board_seats_percentage_sought  board_seat_percentage_gained  \\\n",
       "0                           NaN                           NaN   \n",
       "1                           NaN                           NaN   \n",
       "2                           NaN                           NaN   \n",
       "3                           NaN                           NaN   \n",
       "4                           NaN                           NaN   \n",
       "\n",
       "  board_seat_result_group  \n",
       "0                     NaN  \n",
       "1                     NaN  \n",
       "2                     NaN  \n",
       "3                     NaN  \n",
       "4                     NaN  \n",
       "\n",
       "[5 rows x 119 columns]"
      ]
     },
     "execution_count": 182,
     "metadata": {},
     "output_type": "execute_result"
    }
   ],
   "source": [
    "data.head()"
   ]
  },
  {
   "cell_type": "markdown",
   "metadata": {},
   "source": [
    "# 1. Data Processing"
   ]
  },
  {
   "cell_type": "markdown",
   "metadata": {},
   "source": [
    "## 1.2 X Variables"
   ]
  },
  {
   "cell_type": "code",
   "execution_count": 183,
   "metadata": {},
   "outputs": [],
   "source": [
    "## X Variables Category\n",
    "Target_Variables = ['price_at_announcement', 'ltm_eps_at_announcement', \n",
    "                    'earnings_yield_at_announcement', \n",
    "                    'pre_18m_stock_price', 'pre_12m_stock_price', 'pre_6m_stock_price','pre_3m_stock_price',\n",
    "                    'pre_18m_price_to_earnings', 'pre_12m_price_to_earnings', 'pre_6m_price_to_earnings',\n",
    "                    'pre_3m_price_to_earnings', 'pre_18m_dividends', 'pre_12m_dividends', 'pre_6m_dividends',\n",
    "                    'pre_3m_dividends', 'pre_18m_total_return', 'pre_12m_total_return',\n",
    "                    'pre_6m_total_return', 'pre_3m_total_return', 'sector',\n",
    "                    'pre_6m_residual_return', 'pre_12m_residual_return', 'pre_18m_residual_return',\n",
    "                   'pre_18m_price_return', 'pre_12m_price_return', 'pre_6m_price_return', 'pre_3m_price_return',\n",
    "                   'poison_pill_in_force_prior_to_announcement']\n",
    "Activist_Variables = ['activist_id', 'ownership_pecent_on_announcement', 'past_return_successes']\n",
    "X_Variables = Target_Variables + Activist_Variables"
   ]
  },
  {
   "cell_type": "markdown",
   "metadata": {},
   "source": [
    "**Since we are predicting the campaign objective, we can only use variables that is finalized by the time activists approaching the target companies. So we remove variables like 'in_force_prior_to_announcement_poison_pill', 'adopted_in_response_to_campaign_poison_pill', 'activist_campaign_tactic' and Campaign related variables.**"
   ]
  },
  {
   "cell_type": "code",
   "execution_count": 184,
   "metadata": {},
   "outputs": [],
   "source": [
    "## X Variables Type\n",
    "Categorical_Variables = ['sector', 'activist_id', 'poison_pill_in_force_prior_to_announcement']\n",
    "Continuous_Variables = [i for i in X_Variables if i not in Categorical_Variables]"
   ]
  },
  {
   "cell_type": "code",
   "execution_count": 185,
   "metadata": {},
   "outputs": [
    {
     "data": {
      "text/plain": [
       "['price_at_announcement',\n",
       " 'ltm_eps_at_announcement',\n",
       " 'earnings_yield_at_announcement',\n",
       " 'pre_18m_stock_price',\n",
       " 'pre_12m_stock_price',\n",
       " 'pre_6m_stock_price',\n",
       " 'pre_3m_stock_price',\n",
       " 'pre_18m_price_to_earnings',\n",
       " 'pre_12m_price_to_earnings',\n",
       " 'pre_6m_price_to_earnings',\n",
       " 'pre_3m_price_to_earnings',\n",
       " 'pre_18m_dividends',\n",
       " 'pre_12m_dividends',\n",
       " 'pre_6m_dividends',\n",
       " 'pre_3m_dividends',\n",
       " 'pre_18m_total_return',\n",
       " 'pre_12m_total_return',\n",
       " 'pre_6m_total_return',\n",
       " 'pre_3m_total_return',\n",
       " 'pre_6m_residual_return',\n",
       " 'pre_12m_residual_return',\n",
       " 'pre_18m_residual_return',\n",
       " 'pre_18m_price_return',\n",
       " 'pre_12m_price_return',\n",
       " 'pre_6m_price_return',\n",
       " 'pre_3m_price_return',\n",
       " 'ownership_pecent_on_announcement',\n",
       " 'past_return_successes']"
      ]
     },
     "execution_count": 185,
     "metadata": {},
     "output_type": "execute_result"
    }
   ],
   "source": [
    "Continuous_Variables"
   ]
  },
  {
   "cell_type": "markdown",
   "metadata": {},
   "source": [
    "## 1.3 Y Variable"
   ]
  },
  {
   "cell_type": "code",
   "execution_count": 186,
   "metadata": {
    "scrolled": true
   },
   "outputs": [
    {
     "data": {
      "text/plain": [
       "Board Representation                                        0.222652\n",
       "Maximize Shareholder Value                                  0.217114\n",
       "13D Filer - No Publicly Disclosed Activism                  0.131230\n",
       "Vote For a Stockholder Proposal                             0.105423\n",
       "Board Control                                               0.082541\n",
       "Vote/Activism Against a Merger                              0.058719\n",
       "Hostile/Unsolicited Acquisition                             0.058092\n",
       "Vote Against a Management Proposal                          0.037823\n",
       "Enhance Corporate Governance                                0.028210\n",
       "Public Short Position/Bear Raid                             0.018284\n",
       "Support Dissident Group in Proxy Fight                      0.013896\n",
       "Vote For a Management Proposal/Support Management           0.010762\n",
       "Remove Director(s), No Dissident Nominee to Fill Vacancy    0.010135\n",
       "Remove Officer(s)                                           0.005120\n",
       "Name: campaign_objective_primary, dtype: float64"
      ]
     },
     "execution_count": 186,
     "metadata": {},
     "output_type": "execute_result"
    }
   ],
   "source": [
    "data.campaign_objective_primary.value_counts() / len(data)"
   ]
  },
  {
   "cell_type": "code",
   "execution_count": 187,
   "metadata": {},
   "outputs": [],
   "source": [
    "campaign_objective_dic = {\n",
    "    '13D Filer - No Publicly Disclosed Activism': 'Not disclosed',\n",
    "    'Board Representation' : 'Add Directors',\n",
    "    'Board Control' : 'Add Directors', \n",
    "    'Maximize Shareholder Value': 'Generic Objective',\n",
    "    'Enhance Corporate Governance': 'Generic Objective',\n",
    "    'Hostile/Unsolicited Acquisition': 'Facilitate M&A',\n",
    "    'Vote/Activism Against a Merger': 'Block_M&A',\n",
    "    'Remove Director(s), No Dissident Nominee to Fill Vacancy': 'Remove Directors',\n",
    "    'Remove Officer(s)': 'Remove Directors',\n",
    "    'Public Short Position/Bear Raid': 'Short',\n",
    "    'Vote For a Stockholder Proposal':  'Vote For Dissident',\n",
    "    'Vote Against a Management Proposal': 'Vote For Dissident',\n",
    "    'Support Dissident Group in Proxy Fight': 'Vote For Dissident',\n",
    "    'Vote For a Management Proposal/Support Management': 'Vote For Management'\n",
    "}"
   ]
  },
  {
   "cell_type": "code",
   "execution_count": 188,
   "metadata": {},
   "outputs": [],
   "source": [
    "data['campaign_objective_group'] = data.campaign_objective_primary.apply(lambda x: campaign_objective_dic[x])"
   ]
  },
  {
   "cell_type": "code",
   "execution_count": 189,
   "metadata": {},
   "outputs": [],
   "source": [
    "data = data[data.campaign_objective_group != 'Not disclosed']"
   ]
  },
  {
   "cell_type": "code",
   "execution_count": 190,
   "metadata": {},
   "outputs": [
    {
     "data": {
      "text/plain": [
       "Add Directors          0.351293\n",
       "Generic Objective      0.282381\n",
       "Vote For Dissident     0.180878\n",
       "Block_M&A              0.067589\n",
       "Facilitate M&A         0.066867\n",
       "Short                  0.021046\n",
       "Remove Directors       0.017559\n",
       "Vote For Management    0.012387\n",
       "Name: campaign_objective_group, dtype: float64"
      ]
     },
     "execution_count": 190,
     "metadata": {},
     "output_type": "execute_result"
    }
   ],
   "source": [
    "data.campaign_objective_group.value_counts() / len(data)"
   ]
  },
  {
   "cell_type": "code",
   "execution_count": 191,
   "metadata": {},
   "outputs": [],
   "source": [
    "## Y Variable\n",
    "## Remove if the campaign objective accounts for less than 5%\n",
    "Campaign_Objectives = data.campaign_objective_group.value_counts().index[:5]\n",
    "data = data[data.campaign_objective_group.isin(Campaign_Objectives)] ## data size decrease from 9571 to 7264\n",
    "data_processed = data[X_Variables + ['campaign_objective_group']]\n",
    "Campaign_Objective = list(Campaign_Objectives)"
   ]
  },
  {
   "cell_type": "code",
   "execution_count": 192,
   "metadata": {},
   "outputs": [],
   "source": [
    "new_data = data.copy(deep=True)\n",
    "groups_name = list(new_data.campaign_objective_group.value_counts().index)\n",
    "ratio_list = []\n",
    "for _, row in new_data.iterrows():\n",
    "    activist = row['activist_id']\n",
    "    file_date = row['campaign_announcement_date']\n",
    "    hist_rows = new_data[(new_data.campaign_announcement_date < file_date)\n",
    "                        &\n",
    "                        (new_data.activist_id == activist)]\n",
    "    nums = [len(hist_rows[hist_rows.campaign_objective_group == i]) for i in groups_name]\n",
    "    ratio = [0, 0, 0, 0, 0] if sum(nums) == 0 else [i / sum(nums) for i in nums]\n",
    "    ratio_list.append(ratio)"
   ]
  },
  {
   "cell_type": "code",
   "execution_count": 193,
   "metadata": {},
   "outputs": [
    {
     "name": "stderr",
     "output_type": "stream",
     "text": [
      "/Users/dazunsun/Anaconda3/anaconda3/lib/python3.7/site-packages/ipykernel_launcher.py:2: SettingWithCopyWarning: \n",
      "A value is trying to be set on a copy of a slice from a DataFrame.\n",
      "Try using .loc[row_indexer,col_indexer] = value instead\n",
      "\n",
      "See the caveats in the documentation: http://pandas.pydata.org/pandas-docs/stable/user_guide/indexing.html#returning-a-view-versus-a-copy\n",
      "  \n",
      "/Users/dazunsun/Anaconda3/anaconda3/lib/python3.7/site-packages/ipykernel_launcher.py:3: SettingWithCopyWarning: \n",
      "A value is trying to be set on a copy of a slice from a DataFrame.\n",
      "Try using .loc[row_indexer,col_indexer] = value instead\n",
      "\n",
      "See the caveats in the documentation: http://pandas.pydata.org/pandas-docs/stable/user_guide/indexing.html#returning-a-view-versus-a-copy\n",
      "  This is separate from the ipykernel package so we can avoid doing imports until\n",
      "/Users/dazunsun/Anaconda3/anaconda3/lib/python3.7/site-packages/ipykernel_launcher.py:4: SettingWithCopyWarning: \n",
      "A value is trying to be set on a copy of a slice from a DataFrame.\n",
      "Try using .loc[row_indexer,col_indexer] = value instead\n",
      "\n",
      "See the caveats in the documentation: http://pandas.pydata.org/pandas-docs/stable/user_guide/indexing.html#returning-a-view-versus-a-copy\n",
      "  after removing the cwd from sys.path.\n",
      "/Users/dazunsun/Anaconda3/anaconda3/lib/python3.7/site-packages/ipykernel_launcher.py:5: SettingWithCopyWarning: \n",
      "A value is trying to be set on a copy of a slice from a DataFrame.\n",
      "Try using .loc[row_indexer,col_indexer] = value instead\n",
      "\n",
      "See the caveats in the documentation: http://pandas.pydata.org/pandas-docs/stable/user_guide/indexing.html#returning-a-view-versus-a-copy\n",
      "  \"\"\"\n",
      "/Users/dazunsun/Anaconda3/anaconda3/lib/python3.7/site-packages/ipykernel_launcher.py:6: SettingWithCopyWarning: \n",
      "A value is trying to be set on a copy of a slice from a DataFrame.\n",
      "Try using .loc[row_indexer,col_indexer] = value instead\n",
      "\n",
      "See the caveats in the documentation: http://pandas.pydata.org/pandas-docs/stable/user_guide/indexing.html#returning-a-view-versus-a-copy\n",
      "  \n"
     ]
    }
   ],
   "source": [
    "ratio_list = np.array(ratio_list)\n",
    "data_processed['ratio_Add_Directors'] = ratio_list[:,0]\n",
    "data_processed['ratio_Generic_Objective'] = ratio_list[:,1]\n",
    "data_processed['ratio_Vote_For_Dissident'] = ratio_list[:,2]\n",
    "data_processed['ratio_Block_M&A'] = ratio_list[:,3]\n",
    "data_processed['ratio_Facilitate M&A'] = ratio_list[:,4]"
   ]
  },
  {
   "cell_type": "markdown",
   "metadata": {},
   "source": [
    "* **Campaign Objectives:**\n",
    "    - Add Directors                      \n",
    "    - Generic Objective                   \n",
    "    - Vote For Dissident  \n",
    "    - Block_M&A                                  \n",
    "    - Facilitate M&A                    "
   ]
  },
  {
   "cell_type": "code",
   "execution_count": 194,
   "metadata": {},
   "outputs": [
    {
     "data": {
      "text/html": [
       "<div>\n",
       "<style scoped>\n",
       "    .dataframe tbody tr th:only-of-type {\n",
       "        vertical-align: middle;\n",
       "    }\n",
       "\n",
       "    .dataframe tbody tr th {\n",
       "        vertical-align: top;\n",
       "    }\n",
       "\n",
       "    .dataframe thead th {\n",
       "        text-align: right;\n",
       "    }\n",
       "</style>\n",
       "<table border=\"1\" class=\"dataframe\">\n",
       "  <thead>\n",
       "    <tr style=\"text-align: right;\">\n",
       "      <th></th>\n",
       "      <th>price_at_announcement</th>\n",
       "      <th>ltm_eps_at_announcement</th>\n",
       "      <th>earnings_yield_at_announcement</th>\n",
       "      <th>pre_18m_stock_price</th>\n",
       "      <th>pre_12m_stock_price</th>\n",
       "      <th>pre_6m_stock_price</th>\n",
       "      <th>pre_3m_stock_price</th>\n",
       "      <th>pre_18m_price_to_earnings</th>\n",
       "      <th>pre_12m_price_to_earnings</th>\n",
       "      <th>pre_6m_price_to_earnings</th>\n",
       "      <th>...</th>\n",
       "      <th>poison_pill_in_force_prior_to_announcement</th>\n",
       "      <th>activist_id</th>\n",
       "      <th>ownership_pecent_on_announcement</th>\n",
       "      <th>past_return_successes</th>\n",
       "      <th>campaign_objective_group</th>\n",
       "      <th>ratio_Add_Directors</th>\n",
       "      <th>ratio_Generic_Objective</th>\n",
       "      <th>ratio_Vote_For_Dissident</th>\n",
       "      <th>ratio_Block_M&amp;A</th>\n",
       "      <th>ratio_Facilitate M&amp;A</th>\n",
       "    </tr>\n",
       "  </thead>\n",
       "  <tbody>\n",
       "    <tr>\n",
       "      <td>1</td>\n",
       "      <td>19.250000</td>\n",
       "      <td>NaN</td>\n",
       "      <td>NaN</td>\n",
       "      <td>14.750000</td>\n",
       "      <td>15.375000</td>\n",
       "      <td>15.000000</td>\n",
       "      <td>17.000000</td>\n",
       "      <td>NaN</td>\n",
       "      <td>NaN</td>\n",
       "      <td>NaN</td>\n",
       "      <td>...</td>\n",
       "      <td>No</td>\n",
       "      <td>05TTFK-E</td>\n",
       "      <td>10.71</td>\n",
       "      <td>NaN</td>\n",
       "      <td>Facilitate M&amp;A</td>\n",
       "      <td>0.0</td>\n",
       "      <td>0.000000</td>\n",
       "      <td>0.0</td>\n",
       "      <td>0.0</td>\n",
       "      <td>0.000000</td>\n",
       "    </tr>\n",
       "    <tr>\n",
       "      <td>2</td>\n",
       "      <td>13.062500</td>\n",
       "      <td>0.9425</td>\n",
       "      <td>0.072153</td>\n",
       "      <td>13.500000</td>\n",
       "      <td>13.187500</td>\n",
       "      <td>13.562500</td>\n",
       "      <td>13.625000</td>\n",
       "      <td>NaN</td>\n",
       "      <td>NaN</td>\n",
       "      <td>NaN</td>\n",
       "      <td>...</td>\n",
       "      <td>No</td>\n",
       "      <td>05TTFK-E</td>\n",
       "      <td>5.20</td>\n",
       "      <td>1.0</td>\n",
       "      <td>Generic Objective</td>\n",
       "      <td>0.0</td>\n",
       "      <td>0.000000</td>\n",
       "      <td>0.0</td>\n",
       "      <td>0.0</td>\n",
       "      <td>1.000000</td>\n",
       "    </tr>\n",
       "    <tr>\n",
       "      <td>3</td>\n",
       "      <td>126.500000</td>\n",
       "      <td>1.9100</td>\n",
       "      <td>0.015099</td>\n",
       "      <td>74.000000</td>\n",
       "      <td>76.750000</td>\n",
       "      <td>90.125000</td>\n",
       "      <td>121.875000</td>\n",
       "      <td>NaN</td>\n",
       "      <td>NaN</td>\n",
       "      <td>NaN</td>\n",
       "      <td>...</td>\n",
       "      <td>No</td>\n",
       "      <td>05TTFK-E</td>\n",
       "      <td>NaN</td>\n",
       "      <td>1.0</td>\n",
       "      <td>Generic Objective</td>\n",
       "      <td>0.0</td>\n",
       "      <td>0.500000</td>\n",
       "      <td>0.0</td>\n",
       "      <td>0.0</td>\n",
       "      <td>0.500000</td>\n",
       "    </tr>\n",
       "    <tr>\n",
       "      <td>4</td>\n",
       "      <td>NaN</td>\n",
       "      <td>NaN</td>\n",
       "      <td>NaN</td>\n",
       "      <td>NaN</td>\n",
       "      <td>NaN</td>\n",
       "      <td>NaN</td>\n",
       "      <td>NaN</td>\n",
       "      <td>NaN</td>\n",
       "      <td>NaN</td>\n",
       "      <td>NaN</td>\n",
       "      <td>...</td>\n",
       "      <td>No</td>\n",
       "      <td>05TTFK-E</td>\n",
       "      <td>23.50</td>\n",
       "      <td>1.0</td>\n",
       "      <td>Generic Objective</td>\n",
       "      <td>0.0</td>\n",
       "      <td>0.666667</td>\n",
       "      <td>0.0</td>\n",
       "      <td>0.0</td>\n",
       "      <td>0.333333</td>\n",
       "    </tr>\n",
       "    <tr>\n",
       "      <td>5</td>\n",
       "      <td>0.791667</td>\n",
       "      <td>NaN</td>\n",
       "      <td>NaN</td>\n",
       "      <td>0.416688</td>\n",
       "      <td>0.416688</td>\n",
       "      <td>1.041667</td>\n",
       "      <td>0.958333</td>\n",
       "      <td>NaN</td>\n",
       "      <td>NaN</td>\n",
       "      <td>NaN</td>\n",
       "      <td>...</td>\n",
       "      <td>No</td>\n",
       "      <td>0021QB-E</td>\n",
       "      <td>NaN</td>\n",
       "      <td>NaN</td>\n",
       "      <td>Facilitate M&amp;A</td>\n",
       "      <td>0.0</td>\n",
       "      <td>0.000000</td>\n",
       "      <td>0.0</td>\n",
       "      <td>0.0</td>\n",
       "      <td>0.000000</td>\n",
       "    </tr>\n",
       "  </tbody>\n",
       "</table>\n",
       "<p>5 rows × 37 columns</p>\n",
       "</div>"
      ],
      "text/plain": [
       "   price_at_announcement  ltm_eps_at_announcement  \\\n",
       "1              19.250000                      NaN   \n",
       "2              13.062500                   0.9425   \n",
       "3             126.500000                   1.9100   \n",
       "4                    NaN                      NaN   \n",
       "5               0.791667                      NaN   \n",
       "\n",
       "   earnings_yield_at_announcement  pre_18m_stock_price  pre_12m_stock_price  \\\n",
       "1                             NaN            14.750000            15.375000   \n",
       "2                        0.072153            13.500000            13.187500   \n",
       "3                        0.015099            74.000000            76.750000   \n",
       "4                             NaN                  NaN                  NaN   \n",
       "5                             NaN             0.416688             0.416688   \n",
       "\n",
       "   pre_6m_stock_price  pre_3m_stock_price  pre_18m_price_to_earnings  \\\n",
       "1           15.000000           17.000000                        NaN   \n",
       "2           13.562500           13.625000                        NaN   \n",
       "3           90.125000          121.875000                        NaN   \n",
       "4                 NaN                 NaN                        NaN   \n",
       "5            1.041667            0.958333                        NaN   \n",
       "\n",
       "   pre_12m_price_to_earnings  pre_6m_price_to_earnings  ...  \\\n",
       "1                        NaN                       NaN  ...   \n",
       "2                        NaN                       NaN  ...   \n",
       "3                        NaN                       NaN  ...   \n",
       "4                        NaN                       NaN  ...   \n",
       "5                        NaN                       NaN  ...   \n",
       "\n",
       "   poison_pill_in_force_prior_to_announcement  activist_id  \\\n",
       "1                                          No     05TTFK-E   \n",
       "2                                          No     05TTFK-E   \n",
       "3                                          No     05TTFK-E   \n",
       "4                                          No     05TTFK-E   \n",
       "5                                          No     0021QB-E   \n",
       "\n",
       "   ownership_pecent_on_announcement  past_return_successes  \\\n",
       "1                             10.71                    NaN   \n",
       "2                              5.20                    1.0   \n",
       "3                               NaN                    1.0   \n",
       "4                             23.50                    1.0   \n",
       "5                               NaN                    NaN   \n",
       "\n",
       "   campaign_objective_group  ratio_Add_Directors  ratio_Generic_Objective  \\\n",
       "1            Facilitate M&A                  0.0                 0.000000   \n",
       "2         Generic Objective                  0.0                 0.000000   \n",
       "3         Generic Objective                  0.0                 0.500000   \n",
       "4         Generic Objective                  0.0                 0.666667   \n",
       "5            Facilitate M&A                  0.0                 0.000000   \n",
       "\n",
       "   ratio_Vote_For_Dissident  ratio_Block_M&A ratio_Facilitate M&A  \n",
       "1                       0.0              0.0             0.000000  \n",
       "2                       0.0              0.0             1.000000  \n",
       "3                       0.0              0.0             0.500000  \n",
       "4                       0.0              0.0             0.333333  \n",
       "5                       0.0              0.0             0.000000  \n",
       "\n",
       "[5 rows x 37 columns]"
      ]
     },
     "execution_count": 194,
     "metadata": {},
     "output_type": "execute_result"
    }
   ],
   "source": [
    "data_processed.head()"
   ]
  },
  {
   "cell_type": "markdown",
   "metadata": {},
   "source": [
    "## 1.4 Missing Value"
   ]
  },
  {
   "cell_type": "code",
   "execution_count": 195,
   "metadata": {},
   "outputs": [
    {
     "data": {
      "text/plain": [
       "price_at_announcement                          437\n",
       "ltm_eps_at_announcement                        870\n",
       "earnings_yield_at_announcement                 997\n",
       "pre_18m_stock_price                            658\n",
       "pre_12m_stock_price                            547\n",
       "pre_6m_stock_price                             491\n",
       "pre_3m_stock_price                             478\n",
       "pre_18m_price_to_earnings                     2085\n",
       "pre_12m_price_to_earnings                     1947\n",
       "pre_6m_price_to_earnings                      1886\n",
       "pre_3m_price_to_earnings                      1868\n",
       "pre_18m_dividends                                0\n",
       "pre_12m_dividends                                0\n",
       "pre_6m_dividends                                 0\n",
       "pre_3m_dividends                                 1\n",
       "pre_18m_total_return                           693\n",
       "pre_12m_total_return                           581\n",
       "pre_6m_total_return                            518\n",
       "pre_3m_total_return                            499\n",
       "sector                                           8\n",
       "pre_6m_residual_return                         504\n",
       "pre_12m_residual_return                        567\n",
       "pre_18m_residual_return                        680\n",
       "pre_18m_price_return                           680\n",
       "pre_12m_price_return                           567\n",
       "pre_6m_price_return                            506\n",
       "pre_3m_price_return                            488\n",
       "poison_pill_in_force_prior_to_announcement       2\n",
       "activist_id                                     56\n",
       "ownership_pecent_on_announcement              2002\n",
       "past_return_successes                         3824\n",
       "campaign_objective_group                         0\n",
       "ratio_Add_Directors                              0\n",
       "ratio_Generic_Objective                          0\n",
       "ratio_Vote_For_Dissident                         0\n",
       "ratio_Block_M&A                                  0\n",
       "ratio_Facilitate M&A                             0\n",
       "dtype: int64"
      ]
     },
     "execution_count": 195,
     "metadata": {},
     "output_type": "execute_result"
    }
   ],
   "source": [
    "## Missing Value\n",
    "data_processed.isnull().sum()"
   ]
  },
  {
   "cell_type": "markdown",
   "metadata": {},
   "source": [
    "## 1.5 Feature Engineering"
   ]
  },
  {
   "cell_type": "code",
   "execution_count": 196,
   "metadata": {},
   "outputs": [],
   "source": [
    "activist_count = data.activist_id.value_counts()"
   ]
  },
  {
   "cell_type": "code",
   "execution_count": 197,
   "metadata": {},
   "outputs": [
    {
     "name": "stderr",
     "output_type": "stream",
     "text": [
      "/Users/dazunsun/Anaconda3/anaconda3/lib/python3.7/site-packages/pandas/core/generic.py:5208: SettingWithCopyWarning: \n",
      "A value is trying to be set on a copy of a slice from a DataFrame.\n",
      "Try using .loc[row_indexer,col_indexer] = value instead\n",
      "\n",
      "See the caveats in the documentation: http://pandas.pydata.org/pandas-docs/stable/user_guide/indexing.html#returning-a-view-versus-a-copy\n",
      "  self[name] = value\n"
     ]
    }
   ],
   "source": [
    "## only keep top 200 activists, and change the rest to 'others'\n",
    "top400_activists = data_processed.activist_id.value_counts().index[:400]\n",
    "data_processed.activist_id = data_processed.activist_id.apply(lambda x : x if x in top400_activists else 'others')"
   ]
  },
  {
   "cell_type": "code",
   "execution_count": 198,
   "metadata": {},
   "outputs": [
    {
     "data": {
      "text/plain": [
       "others      3378\n",
       "000KVL-E     137\n",
       "000D7G-E     124\n",
       "0B8HNJ-E     102\n",
       "00CJSP-E      98\n",
       "            ... \n",
       "000KH5-E       3\n",
       "000CXT-E       3\n",
       "001Y8B-E       3\n",
       "00B5F9-E       3\n",
       "00F3P0-E       3\n",
       "Name: activist_id, Length: 401, dtype: int64"
      ]
     },
     "execution_count": 198,
     "metadata": {},
     "output_type": "execute_result"
    }
   ],
   "source": [
    "data_processed.activist_id.value_counts()"
   ]
  },
  {
   "cell_type": "markdown",
   "metadata": {},
   "source": [
    "# 2. Modeling"
   ]
  },
  {
   "cell_type": "markdown",
   "metadata": {},
   "source": [
    "## 2.1 Split Training Set & Test Set"
   ]
  },
  {
   "cell_type": "code",
   "execution_count": 199,
   "metadata": {},
   "outputs": [],
   "source": [
    "## split to training set and test set\n",
    "X = data_processed.drop(columns=['campaign_objective_group'])\n",
    "y = data_processed['campaign_objective_group']\n",
    "X_train, X_test, y_train, y_test = train_test_split(X, y, random_state=0, test_size=0.2)"
   ]
  },
  {
   "cell_type": "code",
   "execution_count": 200,
   "metadata": {},
   "outputs": [
    {
     "data": {
      "text/plain": [
       "(7891, 36)"
      ]
     },
     "execution_count": 200,
     "metadata": {},
     "output_type": "execute_result"
    }
   ],
   "source": [
    "X.shape"
   ]
  },
  {
   "cell_type": "code",
   "execution_count": 104,
   "metadata": {},
   "outputs": [
    {
     "data": {
      "text/plain": [
       "Add Directors         2921\n",
       "Generic Objective     2348\n",
       "Vote For Dissident    1504\n",
       "Block_M&A              562\n",
       "Facilitate M&A         556\n",
       "Name: campaign_objective_group, dtype: int64"
      ]
     },
     "execution_count": 104,
     "metadata": {},
     "output_type": "execute_result"
    }
   ],
   "source": [
    "data_processed.campaign_objective_group.value_counts()"
   ]
  },
  {
   "cell_type": "markdown",
   "metadata": {},
   "source": [
    "## 2.2 Data Process Pipeline"
   ]
  },
  {
   "cell_type": "code",
   "execution_count": 105,
   "metadata": {},
   "outputs": [],
   "source": [
    "## process pipeline\n",
    "process_scale = make_column_transformer(\n",
    "    (make_pipeline(SimpleImputer(strategy='median'), StandardScaler()), \n",
    "     Continuous_Variables),\n",
    "    (make_pipeline(SimpleImputer(strategy='most_frequent'), OneHotEncoder(handle_unknown='ignore')), \n",
    "     Categorical_Variables),\n",
    "    remainder='passthrough')"
   ]
  },
  {
   "cell_type": "markdown",
   "metadata": {},
   "source": [
    "## 2.3 Logistic Regression Classifier"
   ]
  },
  {
   "cell_type": "code",
   "execution_count": 106,
   "metadata": {},
   "outputs": [],
   "source": [
    "## Logistic Regression\n",
    "pipeline_lr = make_pipeline(process_scale, LogisticRegression(\n",
    "    max_iter=10000, verbose=0, multi_class='multinomial', solver='newton-cg'))\n",
    "## Grid Search\n",
    "param_grid_lr = {'logisticregression__C': np.logspace(-3, 3, 7)}\n",
    "grid_lr = GridSearchCV(pipeline_lr, param_grid_lr, cv=3, scoring='accuracy')"
   ]
  },
  {
   "cell_type": "code",
   "execution_count": 108,
   "metadata": {},
   "outputs": [
    {
     "data": {
      "text/plain": [
       "GridSearchCV(cv=3, error_score='raise-deprecating',\n",
       "             estimator=Pipeline(memory=None,\n",
       "                                steps=[('columntransformer',\n",
       "                                        ColumnTransformer(n_jobs=None,\n",
       "                                                          remainder='passthrough',\n",
       "                                                          sparse_threshold=0.3,\n",
       "                                                          transformer_weights=None,\n",
       "                                                          transformers=[('pipeline-1',\n",
       "                                                                         Pipeline(memory=None,\n",
       "                                                                                  steps=[('simpleimputer',\n",
       "                                                                                          SimpleImputer(add_indicator=False,\n",
       "                                                                                                        copy=True,\n",
       "                                                                                                        fill_value=None,\n",
       "                                                                                                        missing_...\n",
       "                                                           multi_class='multinomial',\n",
       "                                                           n_jobs=None,\n",
       "                                                           penalty='l2',\n",
       "                                                           random_state=None,\n",
       "                                                           solver='newton-cg',\n",
       "                                                           tol=0.0001,\n",
       "                                                           verbose=0,\n",
       "                                                           warm_start=False))],\n",
       "                                verbose=False),\n",
       "             iid='warn', n_jobs=None,\n",
       "             param_grid={'logisticregression__C': array([1.e-03, 1.e-02, 1.e-01, 1.e+00, 1.e+01, 1.e+02, 1.e+03])},\n",
       "             pre_dispatch='2*n_jobs', refit=True, return_train_score=False,\n",
       "             scoring='accuracy', verbose=0)"
      ]
     },
     "execution_count": 108,
     "metadata": {},
     "output_type": "execute_result"
    }
   ],
   "source": [
    "grid_lr.fit(X_train, y_train.values.reshape(-1,))"
   ]
  },
  {
   "cell_type": "code",
   "execution_count": 111,
   "metadata": {},
   "outputs": [
    {
     "data": {
      "text/plain": [
       "(array([[448, 100,  14,   4,   6],\n",
       "        [242, 178,  36,   7,   3],\n",
       "        [ 90,  36, 178,   1,   2],\n",
       "        [ 67,  33,  10,   4,   4],\n",
       "        [101,   7,   2,   1,   5]]),                     Precision    Recall\n",
       " Add Directors        0.472574  0.783217\n",
       " Generic Objective    0.502825  0.381974\n",
       " Vote For Dissident   0.741667  0.579805\n",
       " Block_M&A            0.235294  0.033898\n",
       " Facilitate M&A       0.250000  0.043103)"
      ]
     },
     "execution_count": 111,
     "metadata": {},
     "output_type": "execute_result"
    }
   ],
   "source": [
    "produce_confusion_matrix(X_test, y_test.values.reshape(-1,), grid_lr)"
   ]
  },
  {
   "cell_type": "code",
   "execution_count": 292,
   "metadata": {},
   "outputs": [
    {
     "data": {
      "text/plain": [
       "(array([[446, 102,  17,   3,   4],\n",
       "        [240, 181,  36,   6,   3],\n",
       "        [ 96,  32, 175,   3,   1],\n",
       "        [ 65,  32,  10,   6,   5],\n",
       "        [103,   8,   1,   1,   3]]),                     Precision    Recall\n",
       " Add Directors        0.469474  0.779720\n",
       " Generic Objective    0.509859  0.388412\n",
       " Vote For Dissident   0.732218  0.570033\n",
       " Block M&A            0.315789  0.050847\n",
       " Facilitate M&A       0.187500  0.025862)"
      ]
     },
     "execution_count": 292,
     "metadata": {},
     "output_type": "execute_result"
    }
   ],
   "source": [
    "produce_confusion_matrix(X_test, y_test.values.reshape(-1,), grid_lr)"
   ]
  },
  {
   "cell_type": "code",
   "execution_count": 95,
   "metadata": {},
   "outputs": [
    {
     "data": {
      "image/png": "[encoded data removed]",
      "text/plain": [
       "<Figure size 432x288 with 1 Axes>"
      ]
     },
     "metadata": {
      "needs_background": "light"
     },
     "output_type": "display_data"
    }
   ],
   "source": [
    "lr_ = grid_lr.best_estimator_.get_params()['logisticregression']\n",
    "num_feature = len(lr_.coef_[0])\n",
    "ax = plt.gca()\n",
    "ax.scatter(Continuous_Variables, lr_.coef_[0][:8],\n",
    "            c=np.sign(lr_.coef_[0][:8]), cmap=\"bwr_r\")\n",
    "ax.xaxis.set_tick_params(rotation=60)"
   ]
  },
  {
   "cell_type": "markdown",
   "metadata": {},
   "source": [
    "## 2.4 Random Forest Classifier"
   ]
  },
  {
   "cell_type": "code",
   "execution_count": 112,
   "metadata": {},
   "outputs": [],
   "source": [
    "## Random Forest\n",
    "pipeline_rf = make_pipeline(process_scale, \n",
    "                            RandomForestClassifier(random_state = 1))\n",
    "## Grid Search\n",
    "param_grid_rf = {'randomforestclassifier__n_estimators': [1000],\n",
    "                'randomforestclassifier__max_features': ['log2', 'sqrt']}\n",
    "grid_rf = GridSearchCV(pipeline_rf, param_grid_rf, cv=3, scoring='accuracy')"
   ]
  },
  {
   "cell_type": "code",
   "execution_count": 113,
   "metadata": {},
   "outputs": [
    {
     "data": {
      "text/plain": [
       "GridSearchCV(cv=3, error_score='raise-deprecating',\n",
       "             estimator=Pipeline(memory=None,\n",
       "                                steps=[('columntransformer',\n",
       "                                        ColumnTransformer(n_jobs=None,\n",
       "                                                          remainder='passthrough',\n",
       "                                                          sparse_threshold=0.3,\n",
       "                                                          transformer_weights=None,\n",
       "                                                          transformers=[('pipeline-1',\n",
       "                                                                         Pipeline(memory=None,\n",
       "                                                                                  steps=[('simpleimputer',\n",
       "                                                                                          SimpleImputer(add_indicator=False,\n",
       "                                                                                                        copy=True,\n",
       "                                                                                                        fill_value=None,\n",
       "                                                                                                        missing_...\n",
       "                                                               min_weight_fraction_leaf=0.0,\n",
       "                                                               n_estimators='warn',\n",
       "                                                               n_jobs=None,\n",
       "                                                               oob_score=False,\n",
       "                                                               random_state=1,\n",
       "                                                               verbose=0,\n",
       "                                                               warm_start=False))],\n",
       "                                verbose=False),\n",
       "             iid='warn', n_jobs=None,\n",
       "             param_grid={'randomforestclassifier__max_features': ['log2',\n",
       "                                                                  'sqrt'],\n",
       "                         'randomforestclassifier__n_estimators': [1000]},\n",
       "             pre_dispatch='2*n_jobs', refit=True, return_train_score=False,\n",
       "             scoring='accuracy', verbose=0)"
      ]
     },
     "execution_count": 113,
     "metadata": {},
     "output_type": "execute_result"
    }
   ],
   "source": [
    "grid_rf.fit(X_train, y_train.values.reshape(-1,))"
   ]
  },
  {
   "cell_type": "code",
   "execution_count": 114,
   "metadata": {},
   "outputs": [
    {
     "data": {
      "text/plain": [
       "(array([[416, 129,  15,  10,   2],\n",
       "        [220, 201,  31,   5,   9],\n",
       "        [ 80,  42, 180,   2,   3],\n",
       "        [ 57,  36,   9,  13,   3],\n",
       "        [ 78,  11,   3,   6,  18]]),                     Precision    Recall\n",
       " Add Directors        0.488837  0.727273\n",
       " Generic Objective    0.479714  0.431330\n",
       " Vote For Dissident   0.756303  0.586319\n",
       " Block_M&A            0.361111  0.110169\n",
       " Facilitate M&A       0.514286  0.155172)"
      ]
     },
     "execution_count": 114,
     "metadata": {},
     "output_type": "execute_result"
    }
   ],
   "source": [
    "produce_confusion_matrix(X_test, y_test.values.reshape(-1,), grid_rf)"
   ]
  },
  {
   "cell_type": "code",
   "execution_count": 157,
   "metadata": {},
   "outputs": [
    {
     "data": {
      "text/plain": [
       "(array([[458,  92,  15],\n",
       "        [283, 134,  17],\n",
       "        [ 68,  18, 117]]),                     Precision    Recall\n",
       " Add Directors        0.566131  0.810619\n",
       " Generic Objective    0.549180  0.308756\n",
       " Vote For Dissident   0.785235  0.576355)"
      ]
     },
     "execution_count": 157,
     "metadata": {},
     "output_type": "execute_result"
    }
   ],
   "source": [
    "produce_confusion_matrix(X_test, y_test.values.reshape(-1,), grid_rf)"
   ]
  },
  {
   "cell_type": "code",
   "execution_count": 63,
   "metadata": {},
   "outputs": [
    {
     "data": {
      "text/plain": [
       "(array([[458,  91,  16],\n",
       "        [286, 130,  18],\n",
       "        [ 67,  19, 117]]),                     Precision    Recall\n",
       " Add Directors        0.564735  0.810619\n",
       " Generic Objective    0.541667  0.299539\n",
       " Vote For Dissident   0.774834  0.576355)"
      ]
     },
     "execution_count": 63,
     "metadata": {},
     "output_type": "execute_result"
    }
   ],
   "source": [
    "produce_confusion_matrix(X_test, y_test.values.reshape(-1,), grid_rf)"
   ]
  },
  {
   "cell_type": "markdown",
   "metadata": {},
   "source": [
    "**55% accuracy for 6-class classification.**"
   ]
  },
  {
   "cell_type": "markdown",
   "metadata": {},
   "source": [
    "## 2.5 XGBoost Classifier"
   ]
  },
  {
   "cell_type": "code",
   "execution_count": 115,
   "metadata": {},
   "outputs": [
    {
     "data": {
      "text/plain": [
       "GridSearchCV(cv=5, error_score='raise-deprecating',\n",
       "             estimator=Pipeline(memory=None,\n",
       "                                steps=[('columntransformer',\n",
       "                                        ColumnTransformer(n_jobs=None,\n",
       "                                                          remainder='passthrough',\n",
       "                                                          sparse_threshold=0.3,\n",
       "                                                          transformer_weights=None,\n",
       "                                                          transformers=[('pipeline-1',\n",
       "                                                                         Pipeline(memory=None,\n",
       "                                                                                  steps=[('simpleimputer',\n",
       "                                                                                          SimpleImputer(add_indicator=False,\n",
       "                                                                                                        copy=True,\n",
       "                                                                                                        fill_value=None,\n",
       "                                                                                                        missing_...\n",
       "                                                      n_estimators=100,\n",
       "                                                      n_jobs=1, nthread=None,\n",
       "                                                      objective='binary:logistic',\n",
       "                                                      random_state=0,\n",
       "                                                      reg_alpha=0, reg_lambda=1,\n",
       "                                                      scale_pos_weight=1,\n",
       "                                                      seed=None, silent=None,\n",
       "                                                      subsample=1,\n",
       "                                                      verbosity=1))],\n",
       "                                verbose=False),\n",
       "             iid='warn', n_jobs=None,\n",
       "             param_grid={'xgbclassifier__max_depth': range(3, 10, 2)},\n",
       "             pre_dispatch='2*n_jobs', refit=True, return_train_score=False,\n",
       "             scoring='accuracy', verbose=0)"
      ]
     },
     "execution_count": 115,
     "metadata": {},
     "output_type": "execute_result"
    }
   ],
   "source": [
    "param_grid = {'xgbclassifier__max_depth':range(3, 10, 2)}\n",
    "mean_pipe_xgb = make_pipeline(process_scale,\n",
    "                          XGBClassifier())\n",
    "grid_xgb = GridSearchCV(mean_pipe_xgb, param_grid, cv=5, scoring='accuracy')\n",
    "grid_xgb.fit(X_train, y_train)"
   ]
  },
  {
   "cell_type": "code",
   "execution_count": 116,
   "metadata": {},
   "outputs": [
    {
     "data": {
      "text/plain": [
       "0.526282457251425"
      ]
     },
     "execution_count": 116,
     "metadata": {},
     "output_type": "execute_result"
    }
   ],
   "source": [
    "grid_xgb.score(X_test, y_test.values.reshape(-1,))"
   ]
  },
  {
   "cell_type": "code",
   "execution_count": 110,
   "metadata": {},
   "outputs": [],
   "source": [
    "def produce_confusion_matrix(x_test,y_test,model):\n",
    "    pred = model.predict(x_test)\n",
    "    matrix = confusion_matrix(y_test, pred, labels=['Add Directors', 'Generic Objective', \n",
    "                                                   'Vote For Dissident',\n",
    "                                                   'Block_M&A',\n",
    "                                                   'Facilitate M&A'\n",
    "#                                                     'M&A'\n",
    "                                                   ])\n",
    "    # By definition a confusion matrix C is such that Cij is equal to the number of observations \n",
    "    # known to be in group i but predicted to be in group j.\n",
    "    # Thus in binary classification, the count of true negatives is C0,0, false negatives is C1,0, \n",
    "    # true positives is C1,1 and false positives is C0,1.\n",
    "    precision = [matrix[i,i] / sum(matrix[:,i]) for i in range(matrix.shape[1])]\n",
    "    recall = [matrix[i,i] / sum(matrix[i,:]) for i in range(matrix.shape[1])]\n",
    "    d1 = pd.DataFrame(precision, columns=['Precision'], index = ['Add Directors', 'Generic Objective', \n",
    "                                                   'Vote For Dissident',\n",
    "                                                                'Block_M&A',\n",
    "                                                   'Facilitate M&A'\n",
    "#                                                                  'M&A'\n",
    "                                                                ])\n",
    "    d2 = pd.DataFrame(recall, columns=['Recall'], index = ['Add Directors', 'Generic Objective', \n",
    "#                                                            'Not disclosed',\n",
    "                                                   'Vote For Dissident',\n",
    "                                                          'Block_M&A',\n",
    "                                                   'Facilitate M&A'\n",
    "#                                                            'M&A'\n",
    "                                                          ])\n",
    "    precision_recall = pd.concat([d1,d2], axis=1)\n",
    "    return matrix, precision_recall"
   ]
  },
  {
   "cell_type": "code",
   "execution_count": 117,
   "metadata": {},
   "outputs": [
    {
     "data": {
      "text/plain": [
       "(array([[397, 131,  22,   8,  14],\n",
       "        [195, 212,  39,   8,  12],\n",
       "        [ 68,  46, 182,   1,  10],\n",
       "        [ 56,  43,   6,  11,   2],\n",
       "        [ 65,  15,   4,   3,  29]]),                     Precision    Recall\n",
       " Add Directors        0.508323  0.694056\n",
       " Generic Objective    0.474273  0.454936\n",
       " Vote For Dissident   0.719368  0.592834\n",
       " Block_M&A            0.354839  0.093220\n",
       " Facilitate M&A       0.432836  0.250000)"
      ]
     },
     "execution_count": 117,
     "metadata": {},
     "output_type": "execute_result"
    }
   ],
   "source": [
    "produce_confusion_matrix(X_test, y_test.values.reshape(-1,), grid_xgb)"
   ]
  },
  {
   "cell_type": "code",
   "execution_count": 334,
   "metadata": {},
   "outputs": [
    {
     "data": {
      "text/plain": [
       "(array([[386, 139,  15,  32],\n",
       "        [192, 201,  41,  32],\n",
       "        [ 63,  49, 181,  14],\n",
       "        [112,  57,   9,  56]]),                     Precision    Recall\n",
       " Add Directors        0.512616  0.674825\n",
       " Generic Objective    0.450673  0.431330\n",
       " Vote For Dissident   0.735772  0.589577\n",
       " M&A                  0.417910  0.239316)"
      ]
     },
     "execution_count": 334,
     "metadata": {},
     "output_type": "execute_result"
    }
   ],
   "source": [
    "produce_confusion_matrix(X_test, y_test.values.reshape(-1,), grid_xgb)"
   ]
  },
  {
   "cell_type": "code",
   "execution_count": 300,
   "metadata": {},
   "outputs": [
    {
     "data": {
      "text/plain": [
       "(array([[390, 149,  14,   7,  12],\n",
       "        [200, 204,  42,   9,  11],\n",
       "        [ 70,  44, 182,   1,  10],\n",
       "        [ 63,  40,   7,   5,   3],\n",
       "        [ 67,  14,   4,   2,  29]]),                     Precision    Recall\n",
       " Add Directors        0.493671  0.681818\n",
       " Generic Objective    0.452328  0.437768\n",
       " Vote For Dissident   0.730924  0.592834\n",
       " Block M&A            0.208333  0.042373\n",
       " Facilitate M&A       0.446154  0.250000)"
      ]
     },
     "execution_count": 300,
     "metadata": {},
     "output_type": "execute_result"
    }
   ],
   "source": [
    "produce_confusion_matrix(X_test, y_test.values.reshape(-1,), grid_xgb)"
   ]
  },
  {
   "cell_type": "code",
   "execution_count": 160,
   "metadata": {},
   "outputs": [
    {
     "data": {
      "text/plain": [
       "(array([[457, 102,   6],\n",
       "        [251, 164,  19],\n",
       "        [ 63,  17, 123]]),                     Precision    Recall\n",
       " Add Directors        0.592737  0.808850\n",
       " Generic Objective    0.579505  0.377880\n",
       " Vote For Dissident   0.831081  0.605911)"
      ]
     },
     "execution_count": 160,
     "metadata": {},
     "output_type": "execute_result"
    }
   ],
   "source": [
    "produce_confusion_matrix(X_test, y_test.values.reshape(-1,), grid_xgb)"
   ]
  },
  {
   "cell_type": "code",
   "execution_count": 335,
   "metadata": {},
   "outputs": [],
   "source": [
    "## model importance, change it "
   ]
  },
  {
   "cell_type": "code",
   "execution_count": null,
   "metadata": {},
   "outputs": [],
   "source": [
    "data_processed['ratio_Add_Directors'] = ratio_list[:,0]\n",
    "data_processed['ratio_Generic_Objective'] = ratio_list[:,1]\n",
    "data_processed['ratio_Vote_For_Dissident'] = ratio_list[:,2]\n",
    "data_processed['ratio_Block_M&A'] = ratio_list[:,3]\n",
    "data_processed['ratio_Facilitate M&A'] = ratio_list[:,4]"
   ]
  },
  {
   "cell_type": "code",
   "execution_count": 118,
   "metadata": {},
   "outputs": [
    {
     "data": {
      "text/plain": [
       "array(['ownership_pecent_on_announcement', 'ratio_Vote_For_Dissident',\n",
       "       'pre_3m_price_return', 'pre_3m_total_return',\n",
       "       'pre_6m_residual_return', 'pre_6m_price_return',\n",
       "       'pre_6m_total_return', 'earnings_yield_at_announcement',\n",
       "       'pre_12m_residual_return', 'pre_12m_price_return',\n",
       "       'pre_18m_total_return', 'pre_18m_residual_return',\n",
       "       'pre_18m_price_return', 'ratio_Generic_Objective',\n",
       "       'pre_12m_stock_price', 'pre_12m_total_return',\n",
       "       'pre_18m_stock_price', 'pre_6m_stock_price',\n",
       "       'pre_6m_price_to_earnings', 'pre_3m_price_to_earnings',\n",
       "       'pre_18m_price_to_earnings', 'ratio_Add_Directors',\n",
       "       'pre_12m_price_to_earnings', 'pre_3m_stock_price',\n",
       "       'price_at_announcement', 'past_return_successes',\n",
       "       'ltm_eps_at_announcement', 'pre_3m_dividends', 'pre_12m_dividends',\n",
       "       'pre_6m_dividends', 'pre_18m_dividends', 'ratio_Block_M&A',\n",
       "       'activist_id_others', 'sector_Finance',\n",
       "       'poison_pill_in_force_prior_to_announcement_No',\n",
       "       'poison_pill_in_force_prior_to_announcement_Yes',\n",
       "       'ratio_Facilitate M&A', 'sector_Consumer Services',\n",
       "       'activist_id_000D7G-E', 'sector_Electronic Technology'],\n",
       "      dtype='<U46')"
      ]
     },
     "execution_count": 118,
     "metadata": {},
     "output_type": "execute_result"
    }
   ],
   "source": [
    "importance = grid_rf.best_estimator_.get_params()[\"randomforestclassifier\"].feature_importances_\n",
    "cat_names = grid_rf.best_estimator_.named_steps['columntransformer'].transformers_[1][1]\\\n",
    "   .named_steps['onehotencoder'].get_feature_names(Categorical_Variables)\n",
    "features_name = np.array(list(Continuous_Variables) + list(cat_names) + ['ratio_Add_Directors', 'ratio_Generic_Objective',\n",
    "                                                                        'ratio_Vote_For_Dissident', 'ratio_Block_M&A',\n",
    "                                                                        'ratio_Facilitate M&A'])\n",
    "indices = np.argsort(np.array(importance))[::-1][:40]\n",
    "features_name[indices]"
   ]
  },
  {
   "cell_type": "code",
   "execution_count": 134,
   "metadata": {},
   "outputs": [
    {
     "data": {
      "text/plain": [
       "array([0.04525397, 0.04304864, 0.03123384, 0.03118102, 0.03005367,\n",
       "       0.02979494, 0.02920634, 0.02912412, 0.02880022, 0.02868072,\n",
       "       0.02856108, 0.02852548, 0.02852365, 0.02843747, 0.02839026,\n",
       "       0.02838794, 0.02822453, 0.02766572, 0.02675626, 0.02673922,\n",
       "       0.02668209, 0.0266042 , 0.02659733, 0.02604224, 0.02590233,\n",
       "       0.01760338, 0.01548792, 0.01496485, 0.01481185, 0.01453287,\n",
       "       0.01381115, 0.01306974, 0.01215979, 0.00666042, 0.00641959,\n",
       "       0.00635134, 0.00561552, 0.0049954 , 0.00476792, 0.0044817 ])"
      ]
     },
     "execution_count": 134,
     "metadata": {},
     "output_type": "execute_result"
    }
   ],
   "source": [
    "importance[indices]"
   ]
  },
  {
   "cell_type": "code",
   "execution_count": 119,
   "metadata": {},
   "outputs": [
    {
     "data": {
      "text/plain": [
       "455"
      ]
     },
     "execution_count": 119,
     "metadata": {},
     "output_type": "execute_result"
    }
   ],
   "source": [
    "len(features_name)"
   ]
  },
  {
   "cell_type": "code",
   "execution_count": 120,
   "metadata": {},
   "outputs": [
    {
     "data": {
      "text/plain": [
       "455"
      ]
     },
     "execution_count": 120,
     "metadata": {},
     "output_type": "execute_result"
    }
   ],
   "source": [
    "len(importance)"
   ]
  },
  {
   "cell_type": "code",
   "execution_count": 121,
   "metadata": {},
   "outputs": [],
   "source": []
  },
  {
   "cell_type": "code",
   "execution_count": 123,
   "metadata": {},
   "outputs": [
    {
     "data": {
      "text/plain": [
       "count    1170.000000\n",
       "mean       10.459282\n",
       "std         9.987733\n",
       "min         0.000000\n",
       "25%         5.200000\n",
       "50%         7.695000\n",
       "75%        11.900000\n",
       "max        89.330000\n",
       "Name: ownership_pecent_on_announcement, dtype: float64"
      ]
     },
     "execution_count": 123,
     "metadata": {},
     "output_type": "execute_result"
    }
   ],
   "source": [
    "X_test_copy.ownership_pecent_on_announcement.describe()"
   ]
  },
  {
   "cell_type": "code",
   "execution_count": 133,
   "metadata": {
    "scrolled": false
   },
   "outputs": [
    {
     "name": "stdout",
     "output_type": "stream",
     "text": [
      "795\n",
      "469\n",
      "259\n",
      "38\n",
      "18\n",
      "-------------------------\n",
      "736\n",
      "552\n",
      "235\n",
      "40\n",
      "16\n",
      "-------------------------\n",
      "812\n",
      "453\n",
      "251\n",
      "32\n",
      "31\n",
      "-------------------------\n",
      "994\n",
      "322\n",
      "213\n",
      "25\n",
      "25\n",
      "-------------------------\n",
      "1012\n",
      "313\n",
      "210\n",
      "17\n",
      "27\n",
      "-------------------------\n",
      "1008\n",
      "317\n",
      "210\n",
      "17\n",
      "27\n",
      "-------------------------\n"
     ]
    }
   ],
   "source": [
    "t = [0, 5, 7.5, 12, 50, 80]\n",
    "for i in range(6):\n",
    "    \n",
    "    X_test_copy = X_test.copy(deep=True)\n",
    "    X_test_copy.ownership_pecent_on_announcement = [t[i] for j in range(len(X_test_copy))]\n",
    "    pred = grid_rf.predict(X_test_copy)\n",
    "    print(sum(pred == 'Add Directors'))\n",
    "    print(sum(pred == 'Generic Objective'))\n",
    "    print(sum(pred == 'Vote For Dissident'))\n",
    "    print(sum(pred == 'Block_M&A'))\n",
    "    print(sum(pred == 'Facilitate M&A'))\n",
    "    print(\"-------------------------\")"
   ]
  }
 ],
 "metadata": {
  "kernelspec": {
   "display_name": "Python 3",
   "language": "python",
   "name": "python3"
  },
  "language_info": {
   "codemirror_mode": {
    "name": "ipython",
    "version": 3
   },
   "file_extension": ".py",
   "mimetype": "text/x-python",
   "name": "python",
   "nbconvert_exporter": "python",
   "pygments_lexer": "ipython3",
   "version": "3.7.3"
  }
 },
 "nbformat": 4,
 "nbformat_minor": 2
}
