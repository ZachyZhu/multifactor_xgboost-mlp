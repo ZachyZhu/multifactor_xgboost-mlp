{
 "cells": [
  {
   "cell_type": "code",
   "execution_count": 63,
   "metadata": {},
   "outputs": [],
   "source": [
    "import pandas as pd\n",
    "import numpy as np\n",
    "import matplotlib.pyplot as plt\n",
    "import tensorflow as tf\n",
    "from sklearn.impute import SimpleImputer\n",
    "from sklearn.linear_model import Ridge\n",
    "from sklearn.preprocessing import StandardScaler "
   ]
  },
  {
   "cell_type": "markdown",
   "metadata": {},
   "source": [
    "# 基本数据预处理"
   ]
  },
  {
   "cell_type": "code",
   "execution_count": 64,
   "metadata": {},
   "outputs": [],
   "source": [
    "df1=pd.read_csv('data/factor1.csv',header=None)\n",
    "df2=pd.read_csv('data/factor2.csv',header=None)"
   ]
  },
  {
   "cell_type": "code",
   "execution_count": 65,
   "metadata": {},
   "outputs": [],
   "source": [
    "df1_yield=pd.read_csv('data/monthyield1.csv')\n",
    "df2_yield=pd.read_csv('data/monthyield2.csv')"
   ]
  },
  {
   "cell_type": "code",
   "execution_count": 66,
   "metadata": {},
   "outputs": [],
   "source": [
    "title = pd.read_csv('data/title.csv')"
   ]
  },
  {
   "cell_type": "code",
   "execution_count": 67,
   "metadata": {
    "scrolled": true
   },
   "outputs": [],
   "source": [
    "df1.columns=title.columns"
   ]
  },
  {
   "cell_type": "code",
   "execution_count": 68,
   "metadata": {},
   "outputs": [],
   "source": [
    "df2.columns=title.columns"
   ]
  },
  {
   "cell_type": "code",
   "execution_count": 69,
   "metadata": {},
   "outputs": [],
   "source": [
    "df=pd.concat([df1,df2])"
   ]
  },
  {
   "cell_type": "code",
   "execution_count": 70,
   "metadata": {},
   "outputs": [],
   "source": [
    "df.reset_index(inplace=True)"
   ]
  },
  {
   "cell_type": "code",
   "execution_count": 71,
   "metadata": {},
   "outputs": [],
   "source": [
    "df.drop(columns=['index'],inplace=True)"
   ]
  },
  {
   "cell_type": "code",
   "execution_count": 72,
   "metadata": {},
   "outputs": [],
   "source": [
    "df_yield=pd.concat([df1_yield,df2_yield])"
   ]
  },
  {
   "cell_type": "code",
   "execution_count": 73,
   "metadata": {
    "scrolled": true
   },
   "outputs": [],
   "source": [
    "df_yield.columns=np.array(['wind_code','trade_dt','s_mq_pctchange','s_mq_amount'])"
   ]
  },
  {
   "cell_type": "code",
   "execution_count": 74,
   "metadata": {},
   "outputs": [],
   "source": [
    "df_yield.reset_index(inplace=True)"
   ]
  },
  {
   "cell_type": "code",
   "execution_count": 75,
   "metadata": {
    "scrolled": true
   },
   "outputs": [],
   "source": [
    "df_yield.drop(columns=['index'],inplace=True)"
   ]
  },
  {
   "cell_type": "code",
   "execution_count": 76,
   "metadata": {},
   "outputs": [],
   "source": [
    "df['trade_dt']=pd.to_datetime((df['trade_dt']).apply(str))\n",
    "df_yield['trade_dt']=pd.to_datetime((df_yield['trade_dt']).apply(str))"
   ]
  },
  {
   "cell_type": "code",
   "execution_count": 77,
   "metadata": {},
   "outputs": [
    {
     "data": {
      "text/html": [
       "<div>\n",
       "<style scoped>\n",
       "    .dataframe tbody tr th:only-of-type {\n",
       "        vertical-align: middle;\n",
       "    }\n",
       "\n",
       "    .dataframe tbody tr th {\n",
       "        vertical-align: top;\n",
       "    }\n",
       "\n",
       "    .dataframe thead th {\n",
       "        text-align: right;\n",
       "    }\n",
       "</style>\n",
       "<table border=\"1\" class=\"dataframe\">\n",
       "  <thead>\n",
       "    <tr style=\"text-align: right;\">\n",
       "      <th></th>\n",
       "      <th>trade_dt</th>\n",
       "      <th>wind_code</th>\n",
       "      <th>ep_ttm</th>\n",
       "      <th>bp_lyr</th>\n",
       "      <th>sp_ttm</th>\n",
       "      <th>cfp_ncf_ttm</th>\n",
       "      <th>cfp_ocf_ttm</th>\n",
       "      <th>cfp_fcff_ttm</th>\n",
       "      <th>ortoev_ttm</th>\n",
       "      <th>peg</th>\n",
       "      <th>...</th>\n",
       "      <th>beta_60D_zz500</th>\n",
       "      <th>beta_120D_zz500</th>\n",
       "      <th>beta_240D_zz500</th>\n",
       "      <th>beta_480D_zz500</th>\n",
       "      <th>beta_20D_szzz</th>\n",
       "      <th>beta_60D_szzz</th>\n",
       "      <th>beta_120D_szzz</th>\n",
       "      <th>beta_240D_szzz</th>\n",
       "      <th>beta_480D_szzz</th>\n",
       "      <th>updatetime</th>\n",
       "    </tr>\n",
       "  </thead>\n",
       "  <tbody>\n",
       "    <tr>\n",
       "      <th>0</th>\n",
       "      <td>2015-01-05</td>\n",
       "      <td>000001.SZ</td>\n",
       "      <td>0.105061</td>\n",
       "      <td>0.692445</td>\n",
       "      <td>0.379698</td>\n",
       "      <td>0.078568</td>\n",
       "      <td>-0.077901</td>\n",
       "      <td>NaN</td>\n",
       "      <td>0.349975</td>\n",
       "      <td>32.393068</td>\n",
       "      <td>...</td>\n",
       "      <td>0.533999</td>\n",
       "      <td>0.561988</td>\n",
       "      <td>0.587762</td>\n",
       "      <td>0.916000</td>\n",
       "      <td>1.528496</td>\n",
       "      <td>1.531845</td>\n",
       "      <td>1.514987</td>\n",
       "      <td>1.462726</td>\n",
       "      <td>1.724338</td>\n",
       "      <td>2019-05-23 01:46:00.000</td>\n",
       "    </tr>\n",
       "    <tr>\n",
       "      <th>1</th>\n",
       "      <td>2015-01-05</td>\n",
       "      <td>000002.SZ</td>\n",
       "      <td>0.093869</td>\n",
       "      <td>0.478156</td>\n",
       "      <td>0.822869</td>\n",
       "      <td>0.072315</td>\n",
       "      <td>0.189907</td>\n",
       "      <td>0.038477</td>\n",
       "      <td>0.780464</td>\n",
       "      <td>81.357305</td>\n",
       "      <td>...</td>\n",
       "      <td>0.738721</td>\n",
       "      <td>0.651407</td>\n",
       "      <td>0.568098</td>\n",
       "      <td>0.728017</td>\n",
       "      <td>1.406010</td>\n",
       "      <td>1.385631</td>\n",
       "      <td>1.338188</td>\n",
       "      <td>1.243581</td>\n",
       "      <td>1.312524</td>\n",
       "      <td>2019-05-23 01:46:00.000</td>\n",
       "    </tr>\n",
       "    <tr>\n",
       "      <th>2</th>\n",
       "      <td>2015-01-05</td>\n",
       "      <td>000003.SZ</td>\n",
       "      <td>NaN</td>\n",
       "      <td>NaN</td>\n",
       "      <td>NaN</td>\n",
       "      <td>NaN</td>\n",
       "      <td>NaN</td>\n",
       "      <td>NaN</td>\n",
       "      <td>NaN</td>\n",
       "      <td>NaN</td>\n",
       "      <td>...</td>\n",
       "      <td>NaN</td>\n",
       "      <td>NaN</td>\n",
       "      <td>NaN</td>\n",
       "      <td>NaN</td>\n",
       "      <td>NaN</td>\n",
       "      <td>NaN</td>\n",
       "      <td>NaN</td>\n",
       "      <td>NaN</td>\n",
       "      <td>NaN</td>\n",
       "      <td>2019-05-23 01:46:00.000</td>\n",
       "    </tr>\n",
       "    <tr>\n",
       "      <th>3</th>\n",
       "      <td>2015-01-05</td>\n",
       "      <td>000004.SZ</td>\n",
       "      <td>-0.005683</td>\n",
       "      <td>0.053775</td>\n",
       "      <td>0.051532</td>\n",
       "      <td>-0.011803</td>\n",
       "      <td>0.001882</td>\n",
       "      <td>-0.008055</td>\n",
       "      <td>0.052032</td>\n",
       "      <td>53.969832</td>\n",
       "      <td>...</td>\n",
       "      <td>1.543587</td>\n",
       "      <td>1.117074</td>\n",
       "      <td>0.997353</td>\n",
       "      <td>0.904946</td>\n",
       "      <td>0.507822</td>\n",
       "      <td>0.457289</td>\n",
       "      <td>0.332883</td>\n",
       "      <td>0.522529</td>\n",
       "      <td>0.640062</td>\n",
       "      <td>2019-05-23 01:46:00.000</td>\n",
       "    </tr>\n",
       "    <tr>\n",
       "      <th>4</th>\n",
       "      <td>2015-01-05</td>\n",
       "      <td>000005.SZ</td>\n",
       "      <td>-0.012082</td>\n",
       "      <td>0.158174</td>\n",
       "      <td>0.014907</td>\n",
       "      <td>0.000598</td>\n",
       "      <td>-0.030551</td>\n",
       "      <td>0.086292</td>\n",
       "      <td>0.015112</td>\n",
       "      <td>10.260072</td>\n",
       "      <td>...</td>\n",
       "      <td>1.006348</td>\n",
       "      <td>0.807401</td>\n",
       "      <td>0.783661</td>\n",
       "      <td>0.822129</td>\n",
       "      <td>0.265381</td>\n",
       "      <td>0.428369</td>\n",
       "      <td>0.403558</td>\n",
       "      <td>0.672190</td>\n",
       "      <td>0.881936</td>\n",
       "      <td>2019-05-23 01:46:00.000</td>\n",
       "    </tr>\n",
       "  </tbody>\n",
       "</table>\n",
       "<p>5 rows × 177 columns</p>\n",
       "</div>"
      ],
      "text/plain": [
       "    trade_dt  wind_code    ep_ttm    bp_lyr    sp_ttm  cfp_ncf_ttm  \\\n",
       "0 2015-01-05  000001.SZ  0.105061  0.692445  0.379698     0.078568   \n",
       "1 2015-01-05  000002.SZ  0.093869  0.478156  0.822869     0.072315   \n",
       "2 2015-01-05  000003.SZ       NaN       NaN       NaN          NaN   \n",
       "3 2015-01-05  000004.SZ -0.005683  0.053775  0.051532    -0.011803   \n",
       "4 2015-01-05  000005.SZ -0.012082  0.158174  0.014907     0.000598   \n",
       "\n",
       "   cfp_ocf_ttm  cfp_fcff_ttm  ortoev_ttm        peg  ...  beta_60D_zz500  \\\n",
       "0    -0.077901           NaN    0.349975  32.393068  ...        0.533999   \n",
       "1     0.189907      0.038477    0.780464  81.357305  ...        0.738721   \n",
       "2          NaN           NaN         NaN        NaN  ...             NaN   \n",
       "3     0.001882     -0.008055    0.052032  53.969832  ...        1.543587   \n",
       "4    -0.030551      0.086292    0.015112  10.260072  ...        1.006348   \n",
       "\n",
       "   beta_120D_zz500  beta_240D_zz500  beta_480D_zz500  beta_20D_szzz  \\\n",
       "0         0.561988         0.587762         0.916000       1.528496   \n",
       "1         0.651407         0.568098         0.728017       1.406010   \n",
       "2              NaN              NaN              NaN            NaN   \n",
       "3         1.117074         0.997353         0.904946       0.507822   \n",
       "4         0.807401         0.783661         0.822129       0.265381   \n",
       "\n",
       "   beta_60D_szzz  beta_120D_szzz  beta_240D_szzz  beta_480D_szzz  \\\n",
       "0       1.531845        1.514987        1.462726        1.724338   \n",
       "1       1.385631        1.338188        1.243581        1.312524   \n",
       "2            NaN             NaN             NaN             NaN   \n",
       "3       0.457289        0.332883        0.522529        0.640062   \n",
       "4       0.428369        0.403558        0.672190        0.881936   \n",
       "\n",
       "                updatetime  \n",
       "0  2019-05-23 01:46:00.000  \n",
       "1  2019-05-23 01:46:00.000  \n",
       "2  2019-05-23 01:46:00.000  \n",
       "3  2019-05-23 01:46:00.000  \n",
       "4  2019-05-23 01:46:00.000  \n",
       "\n",
       "[5 rows x 177 columns]"
      ]
     },
     "execution_count": 77,
     "metadata": {},
     "output_type": "execute_result"
    }
   ],
   "source": [
    "df.head()"
   ]
  },
  {
   "cell_type": "code",
   "execution_count": 78,
   "metadata": {},
   "outputs": [
    {
     "data": {
      "text/html": [
       "<div>\n",
       "<style scoped>\n",
       "    .dataframe tbody tr th:only-of-type {\n",
       "        vertical-align: middle;\n",
       "    }\n",
       "\n",
       "    .dataframe tbody tr th {\n",
       "        vertical-align: top;\n",
       "    }\n",
       "\n",
       "    .dataframe thead th {\n",
       "        text-align: right;\n",
       "    }\n",
       "</style>\n",
       "<table border=\"1\" class=\"dataframe\">\n",
       "  <thead>\n",
       "    <tr style=\"text-align: right;\">\n",
       "      <th></th>\n",
       "      <th>wind_code</th>\n",
       "      <th>trade_dt</th>\n",
       "      <th>s_mq_pctchange</th>\n",
       "      <th>s_mq_amount</th>\n",
       "    </tr>\n",
       "  </thead>\n",
       "  <tbody>\n",
       "    <tr>\n",
       "      <th>0</th>\n",
       "      <td>000725.SZ</td>\n",
       "      <td>2015-01-30</td>\n",
       "      <td>-7.4475</td>\n",
       "      <td>2.014854e+06</td>\n",
       "    </tr>\n",
       "    <tr>\n",
       "      <th>1</th>\n",
       "      <td>600303.SH</td>\n",
       "      <td>2015-01-30</td>\n",
       "      <td>-6.7475</td>\n",
       "      <td>1.493421e+05</td>\n",
       "    </tr>\n",
       "    <tr>\n",
       "      <th>2</th>\n",
       "      <td>600306.SH</td>\n",
       "      <td>2015-01-30</td>\n",
       "      <td>8.1065</td>\n",
       "      <td>3.303635e+04</td>\n",
       "    </tr>\n",
       "    <tr>\n",
       "      <th>3</th>\n",
       "      <td>600339.SH</td>\n",
       "      <td>2015-01-30</td>\n",
       "      <td>4.6778</td>\n",
       "      <td>1.084486e+05</td>\n",
       "    </tr>\n",
       "    <tr>\n",
       "      <th>4</th>\n",
       "      <td>600346.SH</td>\n",
       "      <td>2015-01-30</td>\n",
       "      <td>17.9652</td>\n",
       "      <td>9.179213e+04</td>\n",
       "    </tr>\n",
       "  </tbody>\n",
       "</table>\n",
       "</div>"
      ],
      "text/plain": [
       "   wind_code   trade_dt  s_mq_pctchange   s_mq_amount\n",
       "0  000725.SZ 2015-01-30         -7.4475  2.014854e+06\n",
       "1  600303.SH 2015-01-30         -6.7475  1.493421e+05\n",
       "2  600306.SH 2015-01-30          8.1065  3.303635e+04\n",
       "3  600339.SH 2015-01-30          4.6778  1.084486e+05\n",
       "4  600346.SH 2015-01-30         17.9652  9.179213e+04"
      ]
     },
     "execution_count": 78,
     "metadata": {},
     "output_type": "execute_result"
    }
   ],
   "source": [
    "df_yield.head()"
   ]
  },
  {
   "cell_type": "markdown",
   "metadata": {},
   "source": [
    "# 特征与标签提取"
   ]
  },
  {
   "cell_type": "markdown",
   "metadata": {},
   "source": [
    "### 1.保留每月最后一个交易日的因子数据"
   ]
  },
  {
   "cell_type": "code",
   "execution_count": 79,
   "metadata": {},
   "outputs": [],
   "source": [
    "last_day_in_month=df.groupby([df['trade_dt'].apply(lambda x: x.year), df['trade_dt'].apply(lambda x: x.month)]).last()['trade_dt']"
   ]
  },
  {
   "cell_type": "code",
   "execution_count": 80,
   "metadata": {},
   "outputs": [],
   "source": [
    "new_df = df[df.trade_dt.isin(last_day_in_month)]"
   ]
  },
  {
   "cell_type": "markdown",
   "metadata": {},
   "source": [
    "### 2.打标签"
   ]
  },
  {
   "cell_type": "code",
   "execution_count": 81,
   "metadata": {},
   "outputs": [],
   "source": [
    "month_pc=df_yield.groupby('trade_dt')['s_mq_pctchange']"
   ]
  },
  {
   "cell_type": "code",
   "execution_count": 82,
   "metadata": {},
   "outputs": [],
   "source": [
    "quantile_0 = month_pc.quantile(q=0.3)"
   ]
  },
  {
   "cell_type": "code",
   "execution_count": 83,
   "metadata": {},
   "outputs": [],
   "source": [
    "quantile_1 = month_pc.quantile(q=0.7)"
   ]
  },
  {
   "cell_type": "code",
   "execution_count": 84,
   "metadata": {},
   "outputs": [],
   "source": [
    "df_yield['label'] = df_yield.apply(lambda x: 2 if x['s_mq_pctchange'] <= quantile_0[x['trade_dt']]\n",
    "                                             else (1 if x['s_mq_pctchange'] <= quantile_1[x['trade_dt']]\n",
    "                                                  else 0),axis=1\n",
    "                                            )"
   ]
  },
  {
   "cell_type": "code",
   "execution_count": 85,
   "metadata": {},
   "outputs": [],
   "source": [
    "time_dict=dict(zip(quantile_0.index[1:],quantile_0.index))"
   ]
  },
  {
   "cell_type": "code",
   "execution_count": 86,
   "metadata": {},
   "outputs": [],
   "source": [
    "time_dict[quantile_0.index[0]]=None"
   ]
  },
  {
   "cell_type": "code",
   "execution_count": 87,
   "metadata": {},
   "outputs": [],
   "source": [
    "df_yield['label_time'] = df_yield['trade_dt'].apply(lambda x: time_dict[x])\n",
    "df_yield = df_yield[~df_yield['label_time'].isnull()]"
   ]
  },
  {
   "cell_type": "code",
   "execution_count": 88,
   "metadata": {},
   "outputs": [],
   "source": [
    "df_with_label = pd.merge(new_df, df_yield, how='inner', left_on=['wind_code', 'trade_dt'],\n",
    "                        right_on=['wind_code', 'label_time'])"
   ]
  },
  {
   "cell_type": "code",
   "execution_count": 89,
   "metadata": {
    "scrolled": true
   },
   "outputs": [
    {
     "data": {
      "text/html": [
       "<div>\n",
       "<style scoped>\n",
       "    .dataframe tbody tr th:only-of-type {\n",
       "        vertical-align: middle;\n",
       "    }\n",
       "\n",
       "    .dataframe tbody tr th {\n",
       "        vertical-align: top;\n",
       "    }\n",
       "\n",
       "    .dataframe thead th {\n",
       "        text-align: right;\n",
       "    }\n",
       "</style>\n",
       "<table border=\"1\" class=\"dataframe\">\n",
       "  <thead>\n",
       "    <tr style=\"text-align: right;\">\n",
       "      <th></th>\n",
       "      <th>trade_dt_x</th>\n",
       "      <th>wind_code</th>\n",
       "      <th>ep_ttm</th>\n",
       "      <th>bp_lyr</th>\n",
       "      <th>sp_ttm</th>\n",
       "      <th>cfp_ncf_ttm</th>\n",
       "      <th>cfp_ocf_ttm</th>\n",
       "      <th>cfp_fcff_ttm</th>\n",
       "      <th>ortoev_ttm</th>\n",
       "      <th>peg</th>\n",
       "      <th>...</th>\n",
       "      <th>beta_60D_szzz</th>\n",
       "      <th>beta_120D_szzz</th>\n",
       "      <th>beta_240D_szzz</th>\n",
       "      <th>beta_480D_szzz</th>\n",
       "      <th>updatetime</th>\n",
       "      <th>trade_dt_y</th>\n",
       "      <th>s_mq_pctchange</th>\n",
       "      <th>s_mq_amount</th>\n",
       "      <th>label</th>\n",
       "      <th>label_time</th>\n",
       "    </tr>\n",
       "  </thead>\n",
       "  <tbody>\n",
       "    <tr>\n",
       "      <th>0</th>\n",
       "      <td>2015-01-30</td>\n",
       "      <td>000001.SZ</td>\n",
       "      <td>0.120824</td>\n",
       "      <td>0.796337</td>\n",
       "      <td>0.436667</td>\n",
       "      <td>0.090356</td>\n",
       "      <td>-0.089589</td>\n",
       "      <td>NaN</td>\n",
       "      <td>0.397811</td>\n",
       "      <td>28.167006</td>\n",
       "      <td>...</td>\n",
       "      <td>1.357957</td>\n",
       "      <td>1.313219</td>\n",
       "      <td>1.339941</td>\n",
       "      <td>1.574382</td>\n",
       "      <td>2019-05-23 01:48:00.000</td>\n",
       "      <td>2015-02-27</td>\n",
       "      <td>0.4304</td>\n",
       "      <td>1.804355e+06</td>\n",
       "      <td>2</td>\n",
       "      <td>2015-01-30</td>\n",
       "    </tr>\n",
       "    <tr>\n",
       "      <th>1</th>\n",
       "      <td>2015-01-30</td>\n",
       "      <td>000002.SZ</td>\n",
       "      <td>0.106428</td>\n",
       "      <td>0.542133</td>\n",
       "      <td>0.932968</td>\n",
       "      <td>0.081991</td>\n",
       "      <td>0.215316</td>\n",
       "      <td>0.043625</td>\n",
       "      <td>0.878831</td>\n",
       "      <td>71.756337</td>\n",
       "      <td>...</td>\n",
       "      <td>1.330106</td>\n",
       "      <td>1.297934</td>\n",
       "      <td>1.226921</td>\n",
       "      <td>1.308739</td>\n",
       "      <td>2019-05-23 01:48:00.000</td>\n",
       "      <td>2015-02-27</td>\n",
       "      <td>-2.8202</td>\n",
       "      <td>3.287976e+06</td>\n",
       "      <td>2</td>\n",
       "      <td>2015-01-30</td>\n",
       "    </tr>\n",
       "    <tr>\n",
       "      <th>2</th>\n",
       "      <td>2015-01-30</td>\n",
       "      <td>000004.SZ</td>\n",
       "      <td>-0.005140</td>\n",
       "      <td>0.048630</td>\n",
       "      <td>0.046602</td>\n",
       "      <td>-0.010674</td>\n",
       "      <td>0.001702</td>\n",
       "      <td>-0.007284</td>\n",
       "      <td>0.047010</td>\n",
       "      <td>59.679834</td>\n",
       "      <td>...</td>\n",
       "      <td>0.367000</td>\n",
       "      <td>0.331869</td>\n",
       "      <td>0.453777</td>\n",
       "      <td>0.558445</td>\n",
       "      <td>2019-05-23 01:48:00.000</td>\n",
       "      <td>2015-02-27</td>\n",
       "      <td>7.8996</td>\n",
       "      <td>4.136355e+04</td>\n",
       "      <td>1</td>\n",
       "      <td>2015-01-30</td>\n",
       "    </tr>\n",
       "    <tr>\n",
       "      <th>3</th>\n",
       "      <td>2015-01-30</td>\n",
       "      <td>000005.SZ</td>\n",
       "      <td>-0.012082</td>\n",
       "      <td>0.158174</td>\n",
       "      <td>0.014907</td>\n",
       "      <td>0.000598</td>\n",
       "      <td>-0.030551</td>\n",
       "      <td>0.086292</td>\n",
       "      <td>0.015112</td>\n",
       "      <td>10.260072</td>\n",
       "      <td>...</td>\n",
       "      <td>0.311863</td>\n",
       "      <td>0.295469</td>\n",
       "      <td>0.554438</td>\n",
       "      <td>0.811105</td>\n",
       "      <td>2019-05-23 01:48:00.000</td>\n",
       "      <td>2015-02-27</td>\n",
       "      <td>0.0000</td>\n",
       "      <td>0.000000e+00</td>\n",
       "      <td>2</td>\n",
       "      <td>2015-01-30</td>\n",
       "    </tr>\n",
       "    <tr>\n",
       "      <th>4</th>\n",
       "      <td>2015-01-30</td>\n",
       "      <td>000006.SZ</td>\n",
       "      <td>0.065695</td>\n",
       "      <td>0.446514</td>\n",
       "      <td>0.415537</td>\n",
       "      <td>-0.023423</td>\n",
       "      <td>-0.107033</td>\n",
       "      <td>0.079987</td>\n",
       "      <td>0.376103</td>\n",
       "      <td>-163.776036</td>\n",
       "      <td>...</td>\n",
       "      <td>0.743068</td>\n",
       "      <td>0.790482</td>\n",
       "      <td>0.879827</td>\n",
       "      <td>1.056388</td>\n",
       "      <td>2019-05-23 01:48:00.000</td>\n",
       "      <td>2015-02-27</td>\n",
       "      <td>1.0795</td>\n",
       "      <td>1.422369e+05</td>\n",
       "      <td>2</td>\n",
       "      <td>2015-01-30</td>\n",
       "    </tr>\n",
       "  </tbody>\n",
       "</table>\n",
       "<p>5 rows × 182 columns</p>\n",
       "</div>"
      ],
      "text/plain": [
       "  trade_dt_x  wind_code    ep_ttm    bp_lyr    sp_ttm  cfp_ncf_ttm  \\\n",
       "0 2015-01-30  000001.SZ  0.120824  0.796337  0.436667     0.090356   \n",
       "1 2015-01-30  000002.SZ  0.106428  0.542133  0.932968     0.081991   \n",
       "2 2015-01-30  000004.SZ -0.005140  0.048630  0.046602    -0.010674   \n",
       "3 2015-01-30  000005.SZ -0.012082  0.158174  0.014907     0.000598   \n",
       "4 2015-01-30  000006.SZ  0.065695  0.446514  0.415537    -0.023423   \n",
       "\n",
       "   cfp_ocf_ttm  cfp_fcff_ttm  ortoev_ttm         peg  ...  beta_60D_szzz  \\\n",
       "0    -0.089589           NaN    0.397811   28.167006  ...       1.357957   \n",
       "1     0.215316      0.043625    0.878831   71.756337  ...       1.330106   \n",
       "2     0.001702     -0.007284    0.047010   59.679834  ...       0.367000   \n",
       "3    -0.030551      0.086292    0.015112   10.260072  ...       0.311863   \n",
       "4    -0.107033      0.079987    0.376103 -163.776036  ...       0.743068   \n",
       "\n",
       "   beta_120D_szzz  beta_240D_szzz  beta_480D_szzz               updatetime  \\\n",
       "0        1.313219        1.339941        1.574382  2019-05-23 01:48:00.000   \n",
       "1        1.297934        1.226921        1.308739  2019-05-23 01:48:00.000   \n",
       "2        0.331869        0.453777        0.558445  2019-05-23 01:48:00.000   \n",
       "3        0.295469        0.554438        0.811105  2019-05-23 01:48:00.000   \n",
       "4        0.790482        0.879827        1.056388  2019-05-23 01:48:00.000   \n",
       "\n",
       "   trade_dt_y  s_mq_pctchange   s_mq_amount  label  label_time  \n",
       "0  2015-02-27          0.4304  1.804355e+06      2  2015-01-30  \n",
       "1  2015-02-27         -2.8202  3.287976e+06      2  2015-01-30  \n",
       "2  2015-02-27          7.8996  4.136355e+04      1  2015-01-30  \n",
       "3  2015-02-27          0.0000  0.000000e+00      2  2015-01-30  \n",
       "4  2015-02-27          1.0795  1.422369e+05      2  2015-01-30  \n",
       "\n",
       "[5 rows x 182 columns]"
      ]
     },
     "execution_count": 89,
     "metadata": {},
     "output_type": "execute_result"
    }
   ],
   "source": [
    "df_with_label.head()"
   ]
  },
  {
   "cell_type": "markdown",
   "metadata": {},
   "source": [
    "### 3.删除特征中非因子项"
   ]
  },
  {
   "cell_type": "code",
   "execution_count": 90,
   "metadata": {},
   "outputs": [],
   "source": [
    "raw_data=df_with_label.drop(columns=['trade_dt_x','wind_code','updatetime','trade_dt_y','s_mq_pctchange','s_mq_amount'])\n",
    "#保留label_time作为训练集和测试集的划分依据"
   ]
  },
  {
   "cell_type": "markdown",
   "metadata": {},
   "source": [
    "### 4. 删除因子之间相关性过高的项"
   ]
  },
  {
   "cell_type": "code",
   "execution_count": 91,
   "metadata": {},
   "outputs": [],
   "source": [
    "correlation=raw_data.corr()"
   ]
  },
  {
   "cell_type": "code",
   "execution_count": 92,
   "metadata": {},
   "outputs": [],
   "source": [
    "corr_map=correlation.where((correlation>0.8) | (correlation < -0.8))"
   ]
  },
  {
   "cell_type": "code",
   "execution_count": 93,
   "metadata": {},
   "outputs": [],
   "source": [
    "corr_li=[]"
   ]
  },
  {
   "cell_type": "code",
   "execution_count": 94,
   "metadata": {},
   "outputs": [],
   "source": [
    "for i in correlation.index:\n",
    "    for j in correlation.columns:\n",
    "        if ~np.isnan(corr_map[i][j]) and corr_map[i][j]!=1 and (j,i) not in corr_li:\n",
    "            corr_li.append((i,j))"
   ]
  },
  {
   "cell_type": "code",
   "execution_count": 95,
   "metadata": {},
   "outputs": [],
   "source": [
    "degree_dict=dict()\n",
    "for i in corr_li:\n",
    "    for a in i:\n",
    "        degree_dict[a]=degree_dict.get(a,0)+1"
   ]
  },
  {
   "cell_type": "code",
   "execution_count": 96,
   "metadata": {},
   "outputs": [],
   "source": [
    "record_factor=[]"
   ]
  },
  {
   "cell_type": "code",
   "execution_count": 97,
   "metadata": {},
   "outputs": [],
   "source": [
    "def find_max_key(degree_dict):\n",
    "    return list(degree_dict.keys())[list(degree_dict.values()).index((max(degree_dict.values())))]"
   ]
  },
  {
   "cell_type": "code",
   "execution_count": 98,
   "metadata": {},
   "outputs": [
    {
     "data": {
      "text/plain": [
       "246"
      ]
     },
     "execution_count": 98,
     "metadata": {},
     "output_type": "execute_result"
    }
   ],
   "source": [
    "sum(degree_dict.values())"
   ]
  },
  {
   "cell_type": "code",
   "execution_count": 99,
   "metadata": {},
   "outputs": [],
   "source": [
    "def delete_factor():\n",
    "    while sum(degree_dict.values())!=0:\n",
    "        max_key=find_max_key(degree_dict)\n",
    "        degree_dict.pop(max_key)\n",
    "        record_factor.append(max_key)\n",
    "        temp_li=[]\n",
    "        for index,i in enumerate(corr_li):\n",
    "            if max_key in i:\n",
    "                temp_li.append(i)\n",
    "                for a in i:\n",
    "                    if a!=max_key:\n",
    "                        degree_dict[a]=degree_dict.get(a)-1\n",
    "        for i in temp_li:\n",
    "            corr_li.remove(i)"
   ]
  },
  {
   "cell_type": "code",
   "execution_count": 100,
   "metadata": {},
   "outputs": [],
   "source": [
    "delete_factor()"
   ]
  },
  {
   "cell_type": "code",
   "execution_count": 101,
   "metadata": {},
   "outputs": [
    {
     "data": {
      "text/plain": [
       "['ivol_capm_240D_szzz',\n",
       " 'beta_120D_zz500',\n",
       " 'finaexpensetogr_ttm2',\n",
       " 'vol_60D',\n",
       " 'beta_240D_zz500',\n",
       " 'threecosttosales_ttm',\n",
       " 'ivol_capm_60D_szzz',\n",
       " 'ivol_capm_240D_zz500',\n",
       " 'beta_60D_szzz',\n",
       " 'beta_120D_szzz',\n",
       " 'debttoequity',\n",
       " 'operateprofitmargin_ttm',\n",
       " 'mom_tw_60D',\n",
       " 'ivol_capm_20D_zz500',\n",
       " 'vol_120D',\n",
       " 'beta_480D_zz500',\n",
       " 'roa_avg_ttm',\n",
       " 'netprofitmargin_ttm',\n",
       " 'operateexpensetogr_ttm2',\n",
       " 'net_profit_yoy_ttm',\n",
       " 'net_profit_qoq_ttm',\n",
       " 'net_profit_3y_ttm',\n",
       " 'mom_180D',\n",
       " 'mom_tw_120D',\n",
       " 'turnover_20D',\n",
       " 'ivol_capm_60D_zz500',\n",
       " 'beta_20D_zz500',\n",
       " 'roe_avg',\n",
       " 'roe_diluted',\n",
       " 'roa_diluted_ttm',\n",
       " 'grossprofitmargin_qoq_ttm',\n",
       " 'nonoperateprofittoebt_ttm',\n",
       " 'eps_ttm',\n",
       " 'current',\n",
       " 'oper_profit_5y_ttm',\n",
       " 'net_profit_yoy',\n",
       " 'net_profit_qoq',\n",
       " 'roe_yoy_ttm',\n",
       " 'roe_qoq_ttm',\n",
       " 'roe_3y_ttm',\n",
       " 'grossprofitmargin_yoy',\n",
       " 'roe_5y_ttm',\n",
       " 'mom_240D',\n",
       " 'turnover_60D',\n",
       " 'turnbias_20Dto60D',\n",
       " 'vol_20D',\n",
       " 'ivol_capm_120D_szzz',\n",
       " 'volbias_20Dto60D',\n",
       " 'ivol_capm_480D_zz500',\n",
       " 'dif',\n",
       " 's_val_mv',\n",
       " 'ln_mv',\n",
       " 'beta_240D_szzz']"
      ]
     },
     "execution_count": 101,
     "metadata": {},
     "output_type": "execute_result"
    }
   ],
   "source": [
    "record_factor"
   ]
  },
  {
   "cell_type": "code",
   "execution_count": 102,
   "metadata": {},
   "outputs": [],
   "source": [
    "raw_data.drop(columns=record_factor,inplace=True)"
   ]
  },
  {
   "cell_type": "code",
   "execution_count": 103,
   "metadata": {},
   "outputs": [
    {
     "data": {
      "text/plain": [
       "(185390, 123)"
      ]
     },
     "execution_count": 103,
     "metadata": {},
     "output_type": "execute_result"
    }
   ],
   "source": [
    "raw_data.shape"
   ]
  },
  {
   "cell_type": "markdown",
   "metadata": {},
   "source": [
    "### 5.训练集与测试集的划分"
   ]
  },
  {
   "cell_type": "code",
   "execution_count": 104,
   "metadata": {},
   "outputs": [],
   "source": [
    "import datetime"
   ]
  },
  {
   "cell_type": "code",
   "execution_count": 105,
   "metadata": {},
   "outputs": [],
   "source": [
    "training_data=raw_data[raw_data['label_time']<datetime.datetime(2019,1,1)]"
   ]
  },
  {
   "cell_type": "code",
   "execution_count": 106,
   "metadata": {},
   "outputs": [
    {
     "name": "stderr",
     "output_type": "stream",
     "text": [
      "C:\\Users\\surface\\Anaconda\\lib\\site-packages\\pandas\\core\\frame.py:3940: SettingWithCopyWarning: \n",
      "A value is trying to be set on a copy of a slice from a DataFrame\n",
      "\n",
      "See the caveats in the documentation: http://pandas.pydata.org/pandas-docs/stable/indexing.html#indexing-view-versus-copy\n",
      "  errors=errors)\n"
     ]
    }
   ],
   "source": [
    "training_data.drop(columns=['label_time'],inplace=True)"
   ]
  },
  {
   "cell_type": "code",
   "execution_count": 107,
   "metadata": {},
   "outputs": [],
   "source": [
    "test_data=raw_data[raw_data['label_time']>=datetime.datetime(2019,1,1)]"
   ]
  },
  {
   "cell_type": "code",
   "execution_count": 108,
   "metadata": {},
   "outputs": [],
   "source": [
    "test_data.drop(columns=['label_time'],inplace=True)"
   ]
  },
  {
   "cell_type": "code",
   "execution_count": 109,
   "metadata": {},
   "outputs": [],
   "source": [
    "training_data_x=training_data.loc[:,training_data.columns!='label']"
   ]
  },
  {
   "cell_type": "code",
   "execution_count": 110,
   "metadata": {},
   "outputs": [],
   "source": [
    "training_data_y=training_data['label']"
   ]
  },
  {
   "cell_type": "code",
   "execution_count": 111,
   "metadata": {},
   "outputs": [],
   "source": [
    "test_data_x=test_data.loc[:,test_data.columns!='label']"
   ]
  },
  {
   "cell_type": "code",
   "execution_count": 112,
   "metadata": {},
   "outputs": [],
   "source": [
    "test_data_y=test_data['label']"
   ]
  },
  {
   "cell_type": "markdown",
   "metadata": {},
   "source": [
    "####   a. 中位数去极值"
   ]
  },
  {
   "cell_type": "code",
   "execution_count": 113,
   "metadata": {},
   "outputs": [],
   "source": [
    "record_median=dict()"
   ]
  },
  {
   "cell_type": "code",
   "execution_count": 114,
   "metadata": {},
   "outputs": [],
   "source": [
    "def median_recompute(x):\n",
    "    D_m=x.median()\n",
    "#     print(D_m)\n",
    "    new_series=abs(x-D_m)\n",
    "    D_m1=new_series.median()\n",
    "    x = x.apply(lambda y: D_m+5*D_m1 if y>D_m+5*D_m1 else (D_m-5*D_m1 if y< D_m-5*D_m1 else y) )\n",
    "    record_median[x.name]=[D_m+5*D_m1, D_m-5*D_m1]"
   ]
  },
  {
   "cell_type": "code",
   "execution_count": 115,
   "metadata": {
    "scrolled": true
   },
   "outputs": [
    {
     "data": {
      "text/plain": [
       "ep_ttm                   None\n",
       "bp_lyr                   None\n",
       "sp_ttm                   None\n",
       "cfp_ncf_ttm              None\n",
       "cfp_ocf_ttm              None\n",
       "cfp_fcff_ttm             None\n",
       "ortoev_ttm               None\n",
       "peg                      None\n",
       "roe_avg_ttm              None\n",
       "roe_diluted_ttm          None\n",
       "roa_avg                  None\n",
       "roa_diluted              None\n",
       "roic_wind                None\n",
       "roic_wind_ttm            None\n",
       "berryratio_ttm           None\n",
       "grossmargin_ttm          None\n",
       "adminexpensetogr_ttm2    None\n",
       "taxtoebt_ttm             None\n",
       "taxtoor_ttm              None\n",
       "eps_diluted_is           None\n",
       "bps_ttm                  None\n",
       "orps_ttm                 None\n",
       "dps                      None\n",
       "endogenousgrowth         None\n",
       "scftosales_ttm           None\n",
       "wgsdtosales_ttm          None\n",
       "wgsdtoor_ttm             None\n",
       "debttoassets             None\n",
       "curassetsratio           None\n",
       "fixedassettoasset        None\n",
       "                         ... \n",
       "mom_480D                 None\n",
       "mom_1200D                None\n",
       "mom_tw_20D               None\n",
       "mom_tw_240D              None\n",
       "mom_ratio_240Dto20D      None\n",
       "mom_spread_240Dto20D     None\n",
       "turnover_120D            None\n",
       "turnbias_20Dto120D       None\n",
       "turnbias_60Dto120D       None\n",
       "volume_avg_20D           None\n",
       "amount_avg_20D           None\n",
       "amountReverse            None\n",
       "amountBias               None\n",
       "vol_240D                 None\n",
       "volbias_20Dto120D        None\n",
       "volbias_60Dto120D        None\n",
       "ivol_capm_120D_zz500     None\n",
       "ivol_capm_20D_szzz       None\n",
       "ivol_capm_480D_szzz      None\n",
       "dea                      None\n",
       "macd                     None\n",
       "skew_20D                 None\n",
       "skew_60D                 None\n",
       "illiq                    None\n",
       "small_order_flow         None\n",
       "s_dq_mv                  None\n",
       "ln_float_mv              None\n",
       "beta_60D_zz500           None\n",
       "beta_20D_szzz            None\n",
       "beta_480D_szzz           None\n",
       "Length: 121, dtype: object"
      ]
     },
     "execution_count": 115,
     "metadata": {},
     "output_type": "execute_result"
    }
   ],
   "source": [
    "training_data_x.apply(median_recompute,axis=0)"
   ]
  },
  {
   "cell_type": "code",
   "execution_count": 116,
   "metadata": {},
   "outputs": [],
   "source": [
    "def test_median_recompute(x):\n",
    "    x=x.apply(lambda y: record_median[x.name][0] if y>record_median[x.name][0] else (record_median[x.name][1] if y<record_median[x.name][1] else y))"
   ]
  },
  {
   "cell_type": "code",
   "execution_count": 117,
   "metadata": {
    "scrolled": true
   },
   "outputs": [
    {
     "data": {
      "text/plain": [
       "ep_ttm                   None\n",
       "bp_lyr                   None\n",
       "sp_ttm                   None\n",
       "cfp_ncf_ttm              None\n",
       "cfp_ocf_ttm              None\n",
       "cfp_fcff_ttm             None\n",
       "ortoev_ttm               None\n",
       "peg                      None\n",
       "roe_avg_ttm              None\n",
       "roe_diluted_ttm          None\n",
       "roa_avg                  None\n",
       "roa_diluted              None\n",
       "roic_wind                None\n",
       "roic_wind_ttm            None\n",
       "berryratio_ttm           None\n",
       "grossmargin_ttm          None\n",
       "adminexpensetogr_ttm2    None\n",
       "taxtoebt_ttm             None\n",
       "taxtoor_ttm              None\n",
       "eps_diluted_is           None\n",
       "bps_ttm                  None\n",
       "orps_ttm                 None\n",
       "dps                      None\n",
       "endogenousgrowth         None\n",
       "scftosales_ttm           None\n",
       "wgsdtosales_ttm          None\n",
       "wgsdtoor_ttm             None\n",
       "debttoassets             None\n",
       "curassetsratio           None\n",
       "fixedassettoasset        None\n",
       "                         ... \n",
       "mom_480D                 None\n",
       "mom_1200D                None\n",
       "mom_tw_20D               None\n",
       "mom_tw_240D              None\n",
       "mom_ratio_240Dto20D      None\n",
       "mom_spread_240Dto20D     None\n",
       "turnover_120D            None\n",
       "turnbias_20Dto120D       None\n",
       "turnbias_60Dto120D       None\n",
       "volume_avg_20D           None\n",
       "amount_avg_20D           None\n",
       "amountReverse            None\n",
       "amountBias               None\n",
       "vol_240D                 None\n",
       "volbias_20Dto120D        None\n",
       "volbias_60Dto120D        None\n",
       "ivol_capm_120D_zz500     None\n",
       "ivol_capm_20D_szzz       None\n",
       "ivol_capm_480D_szzz      None\n",
       "dea                      None\n",
       "macd                     None\n",
       "skew_20D                 None\n",
       "skew_60D                 None\n",
       "illiq                    None\n",
       "small_order_flow         None\n",
       "s_dq_mv                  None\n",
       "ln_float_mv              None\n",
       "beta_60D_zz500           None\n",
       "beta_20D_szzz            None\n",
       "beta_480D_szzz           None\n",
       "Length: 121, dtype: object"
      ]
     },
     "execution_count": 117,
     "metadata": {},
     "output_type": "execute_result"
    }
   ],
   "source": [
    "test_data_x.apply(test_median_recompute,axis=0)"
   ]
  },
  {
   "cell_type": "markdown",
   "metadata": {},
   "source": [
    "###   b. 缺失值处理"
   ]
  },
  {
   "cell_type": "code",
   "execution_count": 118,
   "metadata": {},
   "outputs": [],
   "source": [
    "imputation_transformer = SimpleImputer(np.nan, \"mean\")\n",
    "imputation_transformer.fit(training_data_x)\n",
    "X_train_imputed=imputation_transformer.transform(training_data_x)\n",
    "X_test_imputed=imputation_transformer.transform(test_data_x)"
   ]
  },
  {
   "cell_type": "markdown",
   "metadata": {},
   "source": [
    "### c.标准化"
   ]
  },
  {
   "cell_type": "code",
   "execution_count": 119,
   "metadata": {},
   "outputs": [],
   "source": [
    "scaler = StandardScaler()\n",
    "scaler.fit(X_train_imputed)\n",
    "X_train = scaler.transform(X_train_imputed)\n",
    "X_test = scaler.transform(X_test_imputed)"
   ]
  },
  {
   "cell_type": "code",
   "execution_count": 120,
   "metadata": {},
   "outputs": [],
   "source": [
    "y_train=training_data_y.values\n",
    "y_test=test_data_y.values"
   ]
  },
  {
   "cell_type": "code",
   "execution_count": 121,
   "metadata": {},
   "outputs": [],
   "source": [
    "np.savetxt('data/X_train.csv',X_train,delimiter=',')"
   ]
  },
  {
   "cell_type": "code",
   "execution_count": 122,
   "metadata": {},
   "outputs": [],
   "source": [
    "np.savetxt('data/X_test.csv',X_test,delimiter=',')"
   ]
  },
  {
   "cell_type": "code",
   "execution_count": 123,
   "metadata": {},
   "outputs": [],
   "source": [
    "np.savetxt('data/y_train.csv',y_train,delimiter=',')"
   ]
  },
  {
   "cell_type": "code",
   "execution_count": 124,
   "metadata": {},
   "outputs": [],
   "source": [
    "np.savetxt('data/y_test.csv',y_test,delimiter=',')"
   ]
  }
 ],
 "metadata": {
  "kernelspec": {
   "display_name": "Python 3",
   "language": "python",
   "name": "python3"
  },
  "language_info": {
   "codemirror_mode": {
    "name": "ipython",
    "version": 3
   },
   "file_extension": ".py",
   "mimetype": "text/x-python",
   "name": "python",
   "nbconvert_exporter": "python",
   "pygments_lexer": "ipython3",
   "version": "3.7.3"
  }
 },
 "nbformat": 4,
 "nbformat_minor": 2
}
