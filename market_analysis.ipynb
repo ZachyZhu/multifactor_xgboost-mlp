{
 "cells": [
  {
   "cell_type": "code",
   "execution_count": 13,
   "metadata": {},
   "outputs": [],
   "source": [
    "import pandas as pd \n",
    "import numpy as np\n",
    "import datetime"
   ]
  },
  {
   "cell_type": "code",
   "execution_count": 16,
   "metadata": {},
   "outputs": [],
   "source": [
    "raw_data=pd.read_csv('data/df_with_label.csv')"
   ]
  },
  {
   "cell_type": "code",
   "execution_count": 17,
   "metadata": {},
   "outputs": [],
   "source": [
    "raw_data['label_time']=pd.to_datetime(raw_data['label_time'])"
   ]
  },
  {
   "cell_type": "code",
   "execution_count": 18,
   "metadata": {},
   "outputs": [],
   "source": [
    "df_2019=raw_data[raw_data['label_time']>datetime.datetime(2019,1,1)]"
   ]
  },
  {
   "cell_type": "code",
   "execution_count": 35,
   "metadata": {},
   "outputs": [],
   "source": [
    "np.savetxt('presentation/market_yield.csv',[df_2019.groupby('label_time').mean()['s_mq_pctchange'],df_2019.groupby('label_time').mean()['s_mq_pctchange'].cumprod()],delimiter=',')"
   ]
  },
  {
   "cell_type": "code",
   "execution_count": 39,
   "metadata": {},
   "outputs": [
    {
     "data": {
      "text/plain": [
       "label_time\n",
       "2019-01-31    0.224985\n",
       "2019-02-28    0.354601\n",
       "2019-03-29    0.302215\n",
       "2019-04-30    0.239002\n",
       "2019-05-31    0.245528\n",
       "2019-06-28    0.223995\n",
       "2019-07-31    0.209709\n",
       "2019-08-30    0.227892\n",
       "2019-09-30    0.221320\n",
       "2019-10-31    0.196423\n",
       "Name: s_mq_pctchange, dtype: float64"
      ]
     },
     "execution_count": 39,
     "metadata": {},
     "output_type": "execute_result"
    }
   ],
   "source": [
    "(df_2019.groupby('label_time').mean()['s_mq_pctchange']/100+1).cumprod()-1"
   ]
  }
 ],
 "metadata": {
  "kernelspec": {
   "display_name": "Python 3",
   "language": "python",
   "name": "python3"
  },
  "language_info": {
   "codemirror_mode": {
    "name": "ipython",
    "version": 3
   },
   "file_extension": ".py",
   "mimetype": "text/x-python",
   "name": "python",
   "nbconvert_exporter": "python",
   "pygments_lexer": "ipython3",
   "version": "3.7.3"
  }
 },
 "nbformat": 4,
 "nbformat_minor": 2
}
