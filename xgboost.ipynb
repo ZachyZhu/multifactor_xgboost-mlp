{
 "cells": [
  {
   "cell_type": "code",
   "execution_count": 1,
   "metadata": {},
   "outputs": [],
   "source": [
    "import pandas as pd\n",
    "import numpy as np\n",
    "import matplotlib.pyplot as plt\n",
    "from sklearn.model_selection import train_test_split, cross_val_score, GridSearchCV\n",
    "from sklearn.preprocessing import OneHotEncoder, StandardScaler, MinMaxScaler, PolynomialFeatures\n",
    "from sklearn.compose import make_column_transformer\n",
    "from sklearn.pipeline import make_pipeline\n",
    "from sklearn.impute import SimpleImputer\n",
    "from sklearn.ensemble import RandomForestClassifier\n",
    "from sklearn.metrics import confusion_matrix\n",
    "import xgboost as xgb\n",
    "import datetime\n",
    "from sklearn.linear_model import LogisticRegression\n",
    "import pickle"
   ]
  },
  {
   "cell_type": "code",
   "execution_count": 2,
   "metadata": {},
   "outputs": [],
   "source": [
    "X_train=np.loadtxt('data/X_train.csv',delimiter=',')\n",
    "X_test=np.loadtxt('data/X_test.csv',delimiter=',')\n",
    "y_train=np.loadtxt('data/y_train.csv',delimiter=',')\n",
    "y_test=np.loadtxt('data/y_test.csv',delimiter=',')"
   ]
  },
  {
   "cell_type": "code",
   "execution_count": 3,
   "metadata": {},
   "outputs": [],
   "source": [
    "raw_data=pd.read_csv('data/raw_data.csv')"
   ]
  },
  {
   "cell_type": "code",
   "execution_count": 4,
   "metadata": {},
   "outputs": [],
   "source": [
    "raw_data.drop(columns=['Unnamed: 0'],inplace=True)"
   ]
  },
  {
   "cell_type": "code",
   "execution_count": 5,
   "metadata": {},
   "outputs": [
    {
     "data": {
      "text/html": [
       "<div>\n",
       "<style scoped>\n",
       "    .dataframe tbody tr th:only-of-type {\n",
       "        vertical-align: middle;\n",
       "    }\n",
       "\n",
       "    .dataframe tbody tr th {\n",
       "        vertical-align: top;\n",
       "    }\n",
       "\n",
       "    .dataframe thead th {\n",
       "        text-align: right;\n",
       "    }\n",
       "</style>\n",
       "<table border=\"1\" class=\"dataframe\">\n",
       "  <thead>\n",
       "    <tr style=\"text-align: right;\">\n",
       "      <th></th>\n",
       "      <th>ep_ttm</th>\n",
       "      <th>bp_lyr</th>\n",
       "      <th>sp_ttm</th>\n",
       "      <th>cfp_ncf_ttm</th>\n",
       "      <th>cfp_ocf_ttm</th>\n",
       "      <th>cfp_fcff_ttm</th>\n",
       "      <th>ortoev_ttm</th>\n",
       "      <th>peg</th>\n",
       "      <th>roe_avg_ttm</th>\n",
       "      <th>roe_diluted_ttm</th>\n",
       "      <th>...</th>\n",
       "      <th>skew_60D</th>\n",
       "      <th>illiq</th>\n",
       "      <th>small_order_flow</th>\n",
       "      <th>s_dq_mv</th>\n",
       "      <th>ln_float_mv</th>\n",
       "      <th>beta_60D_zz500</th>\n",
       "      <th>beta_20D_szzz</th>\n",
       "      <th>beta_480D_szzz</th>\n",
       "      <th>label</th>\n",
       "      <th>label_time</th>\n",
       "    </tr>\n",
       "  </thead>\n",
       "  <tbody>\n",
       "    <tr>\n",
       "      <th>0</th>\n",
       "      <td>0.120824</td>\n",
       "      <td>0.796337</td>\n",
       "      <td>0.436667</td>\n",
       "      <td>0.090356</td>\n",
       "      <td>-0.089589</td>\n",
       "      <td>NaN</td>\n",
       "      <td>0.397811</td>\n",
       "      <td>28.167006</td>\n",
       "      <td>0.155275</td>\n",
       "      <td>0.151725</td>\n",
       "      <td>...</td>\n",
       "      <td>-0.220860</td>\n",
       "      <td>1.157803e-07</td>\n",
       "      <td>-0.002365</td>\n",
       "      <td>1.370254e+11</td>\n",
       "      <td>25.643432</td>\n",
       "      <td>0.741209</td>\n",
       "      <td>0.971856</td>\n",
       "      <td>1.574382</td>\n",
       "      <td>2</td>\n",
       "      <td>2015-01-30</td>\n",
       "    </tr>\n",
       "    <tr>\n",
       "      <th>1</th>\n",
       "      <td>0.106428</td>\n",
       "      <td>0.542133</td>\n",
       "      <td>0.932968</td>\n",
       "      <td>0.081991</td>\n",
       "      <td>0.215316</td>\n",
       "      <td>0.043625</td>\n",
       "      <td>0.878831</td>\n",
       "      <td>71.756337</td>\n",
       "      <td>0.198387</td>\n",
       "      <td>0.196314</td>\n",
       "      <td>...</td>\n",
       "      <td>0.008047</td>\n",
       "      <td>9.708716e-08</td>\n",
       "      <td>-0.001101</td>\n",
       "      <td>1.273556e+11</td>\n",
       "      <td>25.570249</td>\n",
       "      <td>0.922578</td>\n",
       "      <td>1.297357</td>\n",
       "      <td>1.308739</td>\n",
       "      <td>0</td>\n",
       "      <td>2015-01-30</td>\n",
       "    </tr>\n",
       "    <tr>\n",
       "      <th>2</th>\n",
       "      <td>-0.005140</td>\n",
       "      <td>0.048630</td>\n",
       "      <td>0.046602</td>\n",
       "      <td>-0.010674</td>\n",
       "      <td>0.001702</td>\n",
       "      <td>-0.007284</td>\n",
       "      <td>0.047010</td>\n",
       "      <td>59.679834</td>\n",
       "      <td>-0.105048</td>\n",
       "      <td>-0.105686</td>\n",
       "      <td>...</td>\n",
       "      <td>-0.481831</td>\n",
       "      <td>6.793055e-06</td>\n",
       "      <td>0.007751</td>\n",
       "      <td>1.455239e+09</td>\n",
       "      <td>21.098436</td>\n",
       "      <td>1.367928</td>\n",
       "      <td>0.318375</td>\n",
       "      <td>0.558445</td>\n",
       "      <td>6</td>\n",
       "      <td>2015-01-30</td>\n",
       "    </tr>\n",
       "    <tr>\n",
       "      <th>3</th>\n",
       "      <td>-0.012082</td>\n",
       "      <td>0.158174</td>\n",
       "      <td>0.014907</td>\n",
       "      <td>0.000598</td>\n",
       "      <td>-0.030551</td>\n",
       "      <td>0.086292</td>\n",
       "      <td>0.015112</td>\n",
       "      <td>10.260072</td>\n",
       "      <td>-0.075996</td>\n",
       "      <td>-0.076385</td>\n",
       "      <td>...</td>\n",
       "      <td>0.794545</td>\n",
       "      <td>NaN</td>\n",
       "      <td>NaN</td>\n",
       "      <td>3.746346e+09</td>\n",
       "      <td>22.044047</td>\n",
       "      <td>1.039238</td>\n",
       "      <td>NaN</td>\n",
       "      <td>0.811105</td>\n",
       "      <td>1</td>\n",
       "      <td>2015-01-30</td>\n",
       "    </tr>\n",
       "    <tr>\n",
       "      <th>4</th>\n",
       "      <td>0.065695</td>\n",
       "      <td>0.446514</td>\n",
       "      <td>0.415537</td>\n",
       "      <td>-0.023423</td>\n",
       "      <td>-0.107033</td>\n",
       "      <td>0.079987</td>\n",
       "      <td>0.376103</td>\n",
       "      <td>-163.776036</td>\n",
       "      <td>0.147783</td>\n",
       "      <td>0.147130</td>\n",
       "      <td>...</td>\n",
       "      <td>-0.625961</td>\n",
       "      <td>6.364750e-07</td>\n",
       "      <td>0.003886</td>\n",
       "      <td>8.702831e+09</td>\n",
       "      <td>22.886914</td>\n",
       "      <td>1.005679</td>\n",
       "      <td>0.947190</td>\n",
       "      <td>1.056388</td>\n",
       "      <td>2</td>\n",
       "      <td>2015-01-30</td>\n",
       "    </tr>\n",
       "  </tbody>\n",
       "</table>\n",
       "<p>5 rows × 123 columns</p>\n",
       "</div>"
      ],
      "text/plain": [
       "     ep_ttm    bp_lyr    sp_ttm  cfp_ncf_ttm  cfp_ocf_ttm  cfp_fcff_ttm  \\\n",
       "0  0.120824  0.796337  0.436667     0.090356    -0.089589           NaN   \n",
       "1  0.106428  0.542133  0.932968     0.081991     0.215316      0.043625   \n",
       "2 -0.005140  0.048630  0.046602    -0.010674     0.001702     -0.007284   \n",
       "3 -0.012082  0.158174  0.014907     0.000598    -0.030551      0.086292   \n",
       "4  0.065695  0.446514  0.415537    -0.023423    -0.107033      0.079987   \n",
       "\n",
       "   ortoev_ttm         peg  roe_avg_ttm  roe_diluted_ttm  ...  skew_60D  \\\n",
       "0    0.397811   28.167006     0.155275         0.151725  ... -0.220860   \n",
       "1    0.878831   71.756337     0.198387         0.196314  ...  0.008047   \n",
       "2    0.047010   59.679834    -0.105048        -0.105686  ... -0.481831   \n",
       "3    0.015112   10.260072    -0.075996        -0.076385  ...  0.794545   \n",
       "4    0.376103 -163.776036     0.147783         0.147130  ... -0.625961   \n",
       "\n",
       "          illiq  small_order_flow       s_dq_mv  ln_float_mv  beta_60D_zz500  \\\n",
       "0  1.157803e-07         -0.002365  1.370254e+11    25.643432        0.741209   \n",
       "1  9.708716e-08         -0.001101  1.273556e+11    25.570249        0.922578   \n",
       "2  6.793055e-06          0.007751  1.455239e+09    21.098436        1.367928   \n",
       "3           NaN               NaN  3.746346e+09    22.044047        1.039238   \n",
       "4  6.364750e-07          0.003886  8.702831e+09    22.886914        1.005679   \n",
       "\n",
       "   beta_20D_szzz  beta_480D_szzz  label  label_time  \n",
       "0       0.971856        1.574382      2  2015-01-30  \n",
       "1       1.297357        1.308739      0  2015-01-30  \n",
       "2       0.318375        0.558445      6  2015-01-30  \n",
       "3            NaN        0.811105      1  2015-01-30  \n",
       "4       0.947190        1.056388      2  2015-01-30  \n",
       "\n",
       "[5 rows x 123 columns]"
      ]
     },
     "execution_count": 5,
     "metadata": {},
     "output_type": "execute_result"
    }
   ],
   "source": [
    "raw_data.head()"
   ]
  },
  {
   "cell_type": "markdown",
   "metadata": {},
   "source": [
    "# 1. Data Preprocessing"
   ]
  },
  {
   "cell_type": "markdown",
   "metadata": {},
   "source": [
    "## 1.1 Missing Values"
   ]
  },
  {
   "cell_type": "code",
   "execution_count": 6,
   "metadata": {},
   "outputs": [
    {
     "data": {
      "text/plain": [
       "ep_ttm                    8171\n",
       "bp_lyr                    7359\n",
       "sp_ttm                    8165\n",
       "cfp_ncf_ttm               8232\n",
       "cfp_ocf_ttm               8214\n",
       "cfp_fcff_ttm             10980\n",
       "ortoev_ttm               11020\n",
       "peg                      13071\n",
       "roe_avg_ttm               1653\n",
       "roe_diluted_ttm           1672\n",
       "roa_avg                    843\n",
       "roa_diluted                843\n",
       "roic_wind                 2781\n",
       "roic_wind_ttm             2781\n",
       "berryratio_ttm            5546\n",
       "grossmargin_ttm           3816\n",
       "adminexpensetogr_ttm2     1064\n",
       "taxtoebt_ttm             22747\n",
       "taxtoor_ttm              22633\n",
       "eps_diluted_is             419\n",
       "bps_ttm                   7359\n",
       "orps_ttm                  8165\n",
       "dps                       7912\n",
       "endogenousgrowth             3\n",
       "scftosales_ttm            3802\n",
       "wgsdtosales_ttm           1035\n",
       "wgsdtoor_ttm             27778\n",
       "debttoassets                 3\n",
       "curassetsratio            1540\n",
       "fixedassettoasset        74005\n",
       "                         ...  \n",
       "mom_tw_20D                8133\n",
       "mom_tw_240D                264\n",
       "mom_ratio_240Dto20D      21737\n",
       "mom_spread_240Dto20D     13159\n",
       "turnover_120D              947\n",
       "turnbias_20Dto120D        8133\n",
       "turnbias_60Dto120D        3835\n",
       "volume_avg_20D            8093\n",
       "amount_avg_20D            8093\n",
       "amountReverse            15883\n",
       "amountBias                8093\n",
       "vol_240D                   298\n",
       "volbias_20Dto120D         8483\n",
       "volbias_60Dto120D         4075\n",
       "ivol_capm_120D_zz500      1135\n",
       "ivol_capm_20D_szzz        8675\n",
       "ivol_capm_480D_szzz        236\n",
       "dea                       5571\n",
       "macd                      5571\n",
       "skew_20D                  8289\n",
       "skew_60D                  3990\n",
       "illiq                     8093\n",
       "small_order_flow         15916\n",
       "s_dq_mv                   7356\n",
       "ln_float_mv               7356\n",
       "beta_60D_zz500            4076\n",
       "beta_20D_szzz             8484\n",
       "beta_480D_szzz             171\n",
       "label                        0\n",
       "label_time                   0\n",
       "Length: 123, dtype: int64"
      ]
     },
     "execution_count": 6,
     "metadata": {},
     "output_type": "execute_result"
    }
   ],
   "source": [
    "## Missing Value\n",
    "raw_data.isnull().sum()"
   ]
  },
  {
   "cell_type": "markdown",
   "metadata": {},
   "source": [
    "## 1.2 Balancing "
   ]
  },
  {
   "cell_type": "code",
   "execution_count": 7,
   "metadata": {},
   "outputs": [
    {
     "data": {
      "text/plain": [
       "5    0.104623\n",
       "2    0.102336\n",
       "7    0.102120\n",
       "0    0.101597\n",
       "4    0.100059\n",
       "9    0.099951\n",
       "1    0.099029\n",
       "6    0.097573\n",
       "3    0.097098\n",
       "8    0.095615\n",
       "Name: label, dtype: float64"
      ]
     },
     "execution_count": 7,
     "metadata": {},
     "output_type": "execute_result"
    }
   ],
   "source": [
    "raw_data['label'].value_counts()/len(raw_data)"
   ]
  },
  {
   "cell_type": "markdown",
   "metadata": {},
   "source": [
    "## 2. Modeling   "
   ]
  },
  {
   "cell_type": "markdown",
   "metadata": {},
   "source": [
    "## 2.1 Split Training Set & Test Set"
   ]
  },
  {
   "cell_type": "code",
   "execution_count": 8,
   "metadata": {},
   "outputs": [],
   "source": [
    "raw_data['label_time']=pd.to_datetime((raw_data['label_time']).apply(str))"
   ]
  },
  {
   "cell_type": "code",
   "execution_count": 9,
   "metadata": {},
   "outputs": [
    {
     "name": "stderr",
     "output_type": "stream",
     "text": [
      "C:\\Users\\surface\\Anaconda\\lib\\site-packages\\pandas\\core\\frame.py:3940: SettingWithCopyWarning: \n",
      "A value is trying to be set on a copy of a slice from a DataFrame\n",
      "\n",
      "See the caveats in the documentation: http://pandas.pydata.org/pandas-docs/stable/indexing.html#indexing-view-versus-copy\n",
      "  errors=errors)\n"
     ]
    }
   ],
   "source": [
    "training_data=raw_data[raw_data['label_time']<datetime.datetime(2019,1,1)]\n",
    "test_data=raw_data[raw_data['label_time']>=datetime.datetime(2019,1,1)]\n",
    "training_data.drop(columns=['label_time'],inplace=True)\n",
    "test_data.drop(columns=['label_time'],inplace=True)\n",
    "X_train=training_data.loc[:,training_data.columns!='label']\n",
    "y_train=training_data['label'].values\n",
    "X_test=test_data.loc[:,test_data.columns!='label']\n",
    "y_test=test_data['label'].values"
   ]
  },
  {
   "cell_type": "markdown",
   "metadata": {},
   "source": [
    "# 2.2 Data Process Pipeline"
   ]
  },
  {
   "cell_type": "code",
   "execution_count": 10,
   "metadata": {},
   "outputs": [],
   "source": [
    "## process pipeline\n",
    "process_scale = make_column_transformer(\n",
    "    (make_pipeline(SimpleImputer(strategy='mean'), StandardScaler()), \n",
    "     X_train.columns),\n",
    "    remainder='passthrough')"
   ]
  },
  {
   "cell_type": "markdown",
   "metadata": {},
   "source": [
    "# 2.3 XGBoost Classifier"
   ]
  },
  {
   "cell_type": "code",
   "execution_count": 11,
   "metadata": {},
   "outputs": [],
   "source": [
    "params = {\n",
    "    'booster': 'gbtree',\n",
    "    'objective': 'multi:softmax',  \n",
    "    'num_class': 10,               \n",
    "    'gamma': 0.1,                  \n",
    "    'max_depth': 12,               \n",
    "    'lambda': 2,                   \n",
    "    'subsample': 0.7,              \n",
    "    'colsample_bytree': 0.7,      \n",
    "    'min_child_weight': 3,\n",
    "    'silent': 1,                   \n",
    "    'eta': 0.007,                  \n",
    "    'seed': 1000,\n",
    "    'nthread': 8                  \n",
    "}"
   ]
  },
  {
   "cell_type": "code",
   "execution_count": 17,
   "metadata": {},
   "outputs": [
    {
     "data": {
      "text/plain": [
       "numpy.ndarray"
      ]
     },
     "execution_count": 17,
     "metadata": {},
     "output_type": "execute_result"
    }
   ],
   "source": [
    "type(y_train)"
   ]
  },
  {
   "cell_type": "code",
   "execution_count": 57,
   "metadata": {
    "scrolled": false
   },
   "outputs": [
    {
     "name": "stdout",
     "output_type": "stream",
     "text": [
      "Fitting 5 folds for each of 3 candidates, totalling 15 fits\n",
      "[CV] xgbclassifier__max_depth=3 ......................................\n"
     ]
    },
    {
     "name": "stderr",
     "output_type": "stream",
     "text": [
      "[Parallel(n_jobs=1)]: Using backend SequentialBackend with 1 concurrent workers.\n"
     ]
    },
    {
     "name": "stdout",
     "output_type": "stream",
     "text": [
      "[CV] ....................... xgbclassifier__max_depth=3, total= 6.4min\n",
      "[CV] xgbclassifier__max_depth=3 ......................................\n"
     ]
    },
    {
     "name": "stderr",
     "output_type": "stream",
     "text": [
      "[Parallel(n_jobs=1)]: Done   1 out of   1 | elapsed:  6.4min remaining:    0.0s\n"
     ]
    },
    {
     "name": "stdout",
     "output_type": "stream",
     "text": [
      "[CV] ....................... xgbclassifier__max_depth=3, total= 6.1min\n",
      "[CV] xgbclassifier__max_depth=3 ......................................\n",
      "[CV] ....................... xgbclassifier__max_depth=3, total= 6.0min\n",
      "[CV] xgbclassifier__max_depth=3 ......................................\n",
      "[CV] ....................... xgbclassifier__max_depth=3, total= 6.0min\n",
      "[CV] xgbclassifier__max_depth=3 ......................................\n",
      "[CV] ....................... xgbclassifier__max_depth=3, total= 5.9min\n",
      "[CV] xgbclassifier__max_depth=6 ......................................\n",
      "[CV] ....................... xgbclassifier__max_depth=6, total=11.7min\n",
      "[CV] xgbclassifier__max_depth=6 ......................................\n",
      "[CV] ....................... xgbclassifier__max_depth=6, total=12.3min\n",
      "[CV] xgbclassifier__max_depth=6 ......................................\n",
      "[CV] ....................... xgbclassifier__max_depth=6, total=12.2min\n",
      "[CV] xgbclassifier__max_depth=6 ......................................\n",
      "[CV] ....................... xgbclassifier__max_depth=6, total=12.1min\n",
      "[CV] xgbclassifier__max_depth=6 ......................................\n",
      "[CV] ....................... xgbclassifier__max_depth=6, total=12.2min\n",
      "[CV] xgbclassifier__max_depth=9 ......................................\n",
      "[CV] ....................... xgbclassifier__max_depth=9, total=19.0min\n",
      "[CV] xgbclassifier__max_depth=9 ......................................\n",
      "[CV] ....................... xgbclassifier__max_depth=9, total=19.6min\n",
      "[CV] xgbclassifier__max_depth=9 ......................................\n",
      "[CV] ....................... xgbclassifier__max_depth=9, total=18.5min\n",
      "[CV] xgbclassifier__max_depth=9 ......................................\n",
      "[CV] ....................... xgbclassifier__max_depth=9, total=18.9min\n",
      "[CV] xgbclassifier__max_depth=9 ......................................\n",
      "[CV] ....................... xgbclassifier__max_depth=9, total=22.5min\n"
     ]
    },
    {
     "name": "stderr",
     "output_type": "stream",
     "text": [
      "[Parallel(n_jobs=1)]: Done  15 out of  15 | elapsed: 189.4min finished\n"
     ]
    },
    {
     "data": {
      "text/plain": [
       "GridSearchCV(cv=5, error_score='raise-deprecating',\n",
       "             estimator=Pipeline(memory=None,\n",
       "                                steps=[('columntransformer',\n",
       "                                        ColumnTransformer(n_jobs=None,\n",
       "                                                          remainder='passthrough',\n",
       "                                                          sparse_threshold=0.3,\n",
       "                                                          transformer_weights=None,\n",
       "                                                          transformers=[('pipeline',\n",
       "                                                                         Pipeline(memory=None,\n",
       "                                                                                  steps=[('simpleimputer',\n",
       "                                                                                          SimpleImputer(add_indicator=False,\n",
       "                                                                                                        copy=True,\n",
       "                                                                                                        fill_value=None,\n",
       "                                                                                                        missing_va...\n",
       "                                                      n_estimators=100,\n",
       "                                                      n_jobs=1, nthread=8,\n",
       "                                                      objective='binary:logistic',\n",
       "                                                      random_state=0,\n",
       "                                                      reg_alpha=0, reg_lambda=1,\n",
       "                                                      scale_pos_weight=1,\n",
       "                                                      seed=None, silent=None,\n",
       "                                                      subsample=1,\n",
       "                                                      verbosity=1))],\n",
       "                                verbose=False),\n",
       "             iid='warn', n_jobs=None,\n",
       "             param_grid={'xgbclassifier__max_depth': range(3, 10, 3)},\n",
       "             pre_dispatch='2*n_jobs', refit=True, return_train_score=False,\n",
       "             scoring='accuracy', verbose=2)"
      ]
     },
     "execution_count": 57,
     "metadata": {},
     "output_type": "execute_result"
    }
   ],
   "source": [
    "param_grid = {'xgbclassifier__max_depth':range(3, 10, 3)}\n",
    "mean_pipe_xgb = make_pipeline(process_scale,\n",
    "                          xgb.XGBClassifier(nthread=8))\n",
    "grid_xgb = GridSearchCV(mean_pipe_xgb, param_grid, cv=5, scoring='accuracy',verbose=2)\n",
    "grid_xgb.fit(X_train, y_train)"
   ]
  },
  {
   "cell_type": "code",
   "execution_count": 66,
   "metadata": {},
   "outputs": [],
   "source": [
    "pickle.dump(grid_xgb, open(\"xgboost/xgboost.pickle.dat\", \"wb\"))"
   ]
  },
  {
   "cell_type": "code",
   "execution_count": 67,
   "metadata": {},
   "outputs": [],
   "source": [
    "model=pickle.load(open(\"xgboost/xgboost.pickle.dat\",\"rb\"))"
   ]
  },
  {
   "cell_type": "code",
   "execution_count": 69,
   "metadata": {},
   "outputs": [
    {
     "data": {
      "text/plain": [
       "0.14920888692871712"
      ]
     },
     "execution_count": 69,
     "metadata": {},
     "output_type": "execute_result"
    }
   ],
   "source": [
    "model.score(X_test, y_test)"
   ]
  },
  {
   "cell_type": "code",
   "execution_count": 70,
   "metadata": {},
   "outputs": [],
   "source": [
    "y_pred=model.predict(X_test)"
   ]
  },
  {
   "cell_type": "code",
   "execution_count": 71,
   "metadata": {},
   "outputs": [
    {
     "data": {
      "text/plain": [
       "array([[1752,  195,  126,   99,  222,  216,   92,  221,  259,  450],\n",
       "       [1050,  240,  196,  175,  481,  447,  141,  235,  260,  402],\n",
       "       [ 782,  211,  173,  219,  585,  625,  211,  275,  195,  353],\n",
       "       [ 648,  188,  165,  232,  676,  717,  224,  285,  201,  290],\n",
       "       [ 564,  176,  149,  227,  715,  757,  221,  284,  220,  319],\n",
       "       [ 506,  171,  156,  261,  671,  817,  259,  283,  204,  310],\n",
       "       [ 518,  166,  156,  234,  684,  773,  209,  289,  261,  343],\n",
       "       [ 639,  187,  177,  205,  598,  652,  164,  354,  258,  375],\n",
       "       [ 750,  216,  183,  173,  508,  540,  139,  310,  327,  479],\n",
       "       [1067,  249,  167,  195,  399,  357,  103,  214,  282,  594]],\n",
       "      dtype=int64)"
      ]
     },
     "execution_count": 71,
     "metadata": {},
     "output_type": "execute_result"
    }
   ],
   "source": [
    "confusion_matrix(y_test,y_pred)"
   ]
  },
  {
   "cell_type": "code",
   "execution_count": 73,
   "metadata": {},
   "outputs": [],
   "source": [
    "stock_info_2019=pd.read_csv('data/stock_info_2019.csv')"
   ]
  },
  {
   "cell_type": "code",
   "execution_count": 74,
   "metadata": {},
   "outputs": [],
   "source": [
    "stock_info_2019.loc[np.where(y_pred==9)].to_csv('xgboost/data/portfolio_9.csv')\n",
    "stock_info_2019.loc[np.where(y_pred==8)].to_csv('xgboost/data/portfolio_8.csv')\n",
    "stock_info_2019.loc[np.where(y_pred==7)].to_csv('xgboost/data/portfolio_7.csv')\n",
    "stock_info_2019.loc[np.where(y_pred==6)].to_csv('xgboost/data/portfolio_6.csv')\n",
    "stock_info_2019.loc[np.where(y_pred==5)].to_csv('xgboost/data/portfolio_5.csv')\n",
    "stock_info_2019.loc[np.where(y_pred==4)].to_csv('xgboost/data/portfolio_4.csv')\n",
    "stock_info_2019.loc[np.where(y_pred==3)].to_csv('xgboost/data/portfolio_3.csv')\n",
    "stock_info_2019.loc[np.where(y_pred==2)].to_csv('xgboost/data/portfolio_2.csv')\n",
    "stock_info_2019.loc[np.where(y_pred==1)].to_csv('xgboost/data/portfolio_1.csv')\n",
    "stock_info_2019.loc[np.where(y_pred==0)].to_csv('xgboost/data/portfolio_0.csv')"
   ]
  }
 ],
 "metadata": {
  "kernelspec": {
   "display_name": "Python 3",
   "language": "python",
   "name": "python3"
  },
  "language_info": {
   "codemirror_mode": {
    "name": "ipython",
    "version": 3
   },
   "file_extension": ".py",
   "mimetype": "text/x-python",
   "name": "python",
   "nbconvert_exporter": "python",
   "pygments_lexer": "ipython3",
   "version": "3.7.3"
  }
 },
 "nbformat": 4,
 "nbformat_minor": 2
}
